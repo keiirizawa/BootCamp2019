{
 "cells": [
  {
   "cell_type": "markdown",
   "metadata": {},
   "source": [
    "# Numpy Lab\n",
    "### (OSE July 2)"
   ]
  },
  {
   "cell_type": "code",
   "execution_count": 1,
   "metadata": {},
   "outputs": [],
   "source": [
    "import numpy as np"
   ]
  },
  {
   "cell_type": "markdown",
   "metadata": {},
   "source": [
    "### Problem 1"
   ]
  },
  {
   "cell_type": "code",
   "execution_count": 14,
   "metadata": {},
   "outputs": [],
   "source": [
    "def solve_multiplication(A, B):\n",
    "    return A @ B"
   ]
  },
  {
   "cell_type": "code",
   "execution_count": 15,
   "metadata": {},
   "outputs": [
    {
     "data": {
      "text/plain": [
       "array([[ 37,  14, -32, -10],\n",
       "       [-54,  -7,  58,  65]])"
      ]
     },
     "execution_count": 15,
     "metadata": {},
     "output_type": "execute_result"
    }
   ],
   "source": [
    "A = np.array([ [3,-1,4], [1,5,-9] ])\n",
    "B = np.array([ [2,6,-5,3], [5,-8,9,7], [9,-3,-2,-3]])\n",
    "solve_multiplication(A, B)"
   ]
  },
  {
   "cell_type": "markdown",
   "metadata": {},
   "source": [
    "### Problem 2"
   ]
  },
  {
   "cell_type": "code",
   "execution_count": 17,
   "metadata": {},
   "outputs": [],
   "source": [
    "def Cayley_Hamilton(A):\n",
    "    return -A@A@A + 9*A@A - 15*A"
   ]
  },
  {
   "cell_type": "code",
   "execution_count": 18,
   "metadata": {},
   "outputs": [
    {
     "data": {
      "text/plain": [
       "array([[0, 0, 0],\n",
       "       [0, 0, 0],\n",
       "       [0, 0, 0]])"
      ]
     },
     "execution_count": 18,
     "metadata": {},
     "output_type": "execute_result"
    }
   ],
   "source": [
    "A = np.array([ [3,1,4], [1,5,9], [-5,3,1] ])\n",
    "Cayley_Hamilton(A)"
   ]
  },
  {
   "cell_type": "markdown",
   "metadata": {},
   "source": [
    "### Problem 3"
   ]
  },
  {
   "cell_type": "code",
   "execution_count": 46,
   "metadata": {},
   "outputs": [],
   "source": [
    "def calculate():\n",
    "    A = np.triu(np.ones((7,7), dtype=np.int64))\n",
    "    fives = np.triu(np.full((7,7), 5))\n",
    "    minus_ones = np.tril(np.full((7,7), -1))\n",
    "    print('A Matrix:', A)\n",
    "    B = fives + minus_ones\n",
    "    np.fill_diagonal(B, -1)\n",
    "    print('B Matrix:', B)\n",
    "    return A @ B @ A"
   ]
  },
  {
   "cell_type": "code",
   "execution_count": 47,
   "metadata": {},
   "outputs": [
    {
     "name": "stdout",
     "output_type": "stream",
     "text": [
      "A Matrix: [[1 1 1 1 1 1 1]\n",
      " [0 1 1 1 1 1 1]\n",
      " [0 0 1 1 1 1 1]\n",
      " [0 0 0 1 1 1 1]\n",
      " [0 0 0 0 1 1 1]\n",
      " [0 0 0 0 0 1 1]\n",
      " [0 0 0 0 0 0 1]]\n",
      "B Matrix: [[-1  5  5  5  5  5  5]\n",
      " [-1 -1  5  5  5  5  5]\n",
      " [-1 -1 -1  5  5  5  5]\n",
      " [-1 -1 -1 -1  5  5  5]\n",
      " [-1 -1 -1 -1 -1  5  5]\n",
      " [-1 -1 -1 -1 -1 -1  5]\n",
      " [-1 -1 -1 -1 -1 -1 -1]]\n"
     ]
    },
    {
     "data": {
      "text/plain": [
       "array([[ -7,  -8,  -3,   8,  25,  48,  77],\n",
       "       [ -6, -12, -12,  -6,   6,  24,  48],\n",
       "       [ -5, -10, -15, -14,  -7,   6,  25],\n",
       "       [ -4,  -8, -12, -16, -14,  -6,   8],\n",
       "       [ -3,  -6,  -9, -12, -15, -12,  -3],\n",
       "       [ -2,  -4,  -6,  -8, -10, -12,  -8],\n",
       "       [ -1,  -2,  -3,  -4,  -5,  -6,  -7]])"
      ]
     },
     "execution_count": 47,
     "metadata": {},
     "output_type": "execute_result"
    }
   ],
   "source": [
    "calculate()"
   ]
  },
  {
   "cell_type": "markdown",
   "metadata": {},
   "source": [
    "### Problem 4"
   ]
  },
  {
   "cell_type": "code",
   "execution_count": 52,
   "metadata": {},
   "outputs": [],
   "source": [
    "def update_negatives(A):\n",
    "    '''\n",
    "    A: array\n",
    "    '''\n",
    "    B = np.copy(A)\n",
    "    B[B<0]=0\n",
    "    return B"
   ]
  },
  {
   "cell_type": "code",
   "execution_count": 53,
   "metadata": {},
   "outputs": [
    {
     "data": {
      "text/plain": [
       "array([1, 2, 3, 4, 0, 2, 0])"
      ]
     },
     "execution_count": 53,
     "metadata": {},
     "output_type": "execute_result"
    }
   ],
   "source": [
    "A = np.array([1,2,3,4,-4,2,-8])\n",
    "update_negatives(A)"
   ]
  },
  {
   "cell_type": "markdown",
   "metadata": {},
   "source": [
    "### Problem 5"
   ]
  },
  {
   "cell_type": "code",
   "execution_count": 76,
   "metadata": {},
   "outputs": [
    {
     "name": "stdout",
     "output_type": "stream",
     "text": [
      "A Matrix: [[0 1 2]\n",
      " [3 4 5]]\n",
      "B Matrix: [[3 0 0]\n",
      " [3 3 0]\n",
      " [3 3 3]]\n",
      "C Matrix: [[-2  0  0]\n",
      " [ 0 -2  0]\n",
      " [ 0  0 -2]]\n",
      "column_1 [[0. 0. 0.]\n",
      " [0. 0. 0.]\n",
      " [0. 0. 0.]\n",
      " [0. 1. 2.]\n",
      " [3. 4. 5.]\n",
      " [3. 0. 0.]\n",
      " [3. 3. 0.]\n",
      " [3. 3. 3.]]\n",
      "column_2 [[0. 3.]\n",
      " [1. 4.]\n",
      " [2. 5.]\n",
      " [0. 0.]\n",
      " [0. 0.]\n",
      " [0. 0.]\n",
      " [0. 0.]\n",
      " [0. 0.]]\n",
      "column_3 [[ 1.  0.  0.]\n",
      " [ 0.  1.  0.]\n",
      " [ 0.  0.  1.]\n",
      " [ 0.  0.  0.]\n",
      " [ 0.  0.  0.]\n",
      " [-2.  0.  0.]\n",
      " [ 0. -2.  0.]\n",
      " [ 0.  0. -2.]]\n"
     ]
    },
    {
     "data": {
      "text/plain": [
       "array([[ 0.,  0.,  0.,  0.,  3.,  1.,  0.,  0.],\n",
       "       [ 0.,  0.,  0.,  1.,  4.,  0.,  1.,  0.],\n",
       "       [ 0.,  0.,  0.,  2.,  5.,  0.,  0.,  1.],\n",
       "       [ 0.,  1.,  2.,  0.,  0.,  0.,  0.,  0.],\n",
       "       [ 3.,  4.,  5.,  0.,  0.,  0.,  0.,  0.],\n",
       "       [ 3.,  0.,  0.,  0.,  0., -2.,  0.,  0.],\n",
       "       [ 3.,  3.,  0.,  0.,  0.,  0., -2.,  0.],\n",
       "       [ 3.,  3.,  3.,  0.,  0.,  0.,  0., -2.]])"
      ]
     },
     "execution_count": 76,
     "metadata": {},
     "output_type": "execute_result"
    }
   ],
   "source": [
    "def stack():\n",
    "    A = np.arange(6).reshape((2,-1))\n",
    "    print('A Matrix:', A)\n",
    "    \n",
    "    B = np.tril(np.full((3,3), 3))\n",
    "    print('B Matrix:', B)\n",
    "    \n",
    "    C = np.diag([-2,-2,-2])\n",
    "    print('C Matrix:', C)\n",
    "    \n",
    "    column_1 = np.vstack((np.zeros((3,3)),A,B))\n",
    "    print('column_1', column_1)\n",
    "    \n",
    "    column_2 = np.vstack((A.T,np.zeros((3,2)),np.zeros((2,2))))\n",
    "    print('column_2', column_2)\n",
    "    \n",
    "    column_3 = np.vstack((np.identity(3),np.zeros((2,3)),C))\n",
    "    print('column_3', column_3)\n",
    "    \n",
    "    return np.column_stack((column_1, column_2, column_3))\n",
    "\n",
    "stack()"
   ]
  },
  {
   "cell_type": "markdown",
   "metadata": {},
   "source": [
    "### Problem 6"
   ]
  },
  {
   "cell_type": "code",
   "execution_count": 91,
   "metadata": {},
   "outputs": [],
   "source": [
    "def create_row_stochastic(A):\n",
    "    '''\n",
    "    A (2-D array): matrix\n",
    "    '''\n",
    "    column_sums = A.sum(axis=1).reshape(A.shape[0],-1)\n",
    "    print(\"A Matrix:\", A)\n",
    "    return A / B"
   ]
  },
  {
   "cell_type": "code",
   "execution_count": 93,
   "metadata": {},
   "outputs": [
    {
     "name": "stdout",
     "output_type": "stream",
     "text": [
      "A Matrix: [[0 1 2]\n",
      " [3 4 5]\n",
      " [6 7 8]]\n"
     ]
    },
    {
     "data": {
      "text/plain": [
       "array([[0.        , 0.33333333, 0.66666667],\n",
       "       [0.25      , 0.33333333, 0.41666667],\n",
       "       [0.28571429, 0.33333333, 0.38095238]])"
      ]
     },
     "execution_count": 93,
     "metadata": {},
     "output_type": "execute_result"
    }
   ],
   "source": [
    "A = np.arange(9).reshape((3,3))\n",
    "create_row_stochastic(A)"
   ]
  },
  {
   "cell_type": "markdown",
   "metadata": {},
   "source": [
    "### Problem 7"
   ]
  },
  {
   "cell_type": "code",
   "execution_count": 107,
   "metadata": {},
   "outputs": [
    {
     "name": "stdout",
     "output_type": "stream",
     "text": [
      "[[ 8  2 22 97 38 15  0 40  0 75  4  5  7 78 52 12 50 77 91  8]\n",
      " [49 49 99 40 17 81 18 57 60 87 17 40 98 43 69 48  4 56 62  0]\n",
      " [81 49 31 73 55 79 14 29 93 71 40 67 53 88 30  3 49 13 36 65]\n",
      " [52 70 95 23  4 60 11 42 69 24 68 56  1 32 56 71 37  2 36 91]\n",
      " [22 31 16 71 51 67 63 89 41 92 36 54 22 40 40 28 66 33 13 80]\n",
      " [24 47 32 60 99  3 45  2 44 75 33 53 78 36 84 20 35 17 12 50]\n",
      " [32 98 81 28 64 23 67 10 26 38 40 67 59 54 70 66 18 38 64 70]\n",
      " [67 26 20 68  2 62 12 20 95 63 94 39 63  8 40 91 66 49 94 21]\n",
      " [24 55 58  5 66 73 99 26 97 17 78 78 96 83 14 88 34 89 63 72]\n",
      " [21 36 23  9 75  0 76 44 20 45 35 14  0 61 33 97 34 31 33 95]\n",
      " [78 17 53 28 22 75 31 67 15 94  3 80  4 62 16 14  9 53 56 92]\n",
      " [16 39  5 42 96 35 31 47 55 58 88 24  0 17 54 24 36 29 85 57]\n",
      " [86 56  0 48 35 71 89  7  5 44 44 37 44 60 21 58 51 54 17 58]\n",
      " [19 80 81 68  5 94 47 69 28 73 92 13 86 52 17 77  4 89 55 40]\n",
      " [ 4 52  8 83 97 35 99 16  7 97 57 32 16 26 26 79 33 27 98 66]\n",
      " [88 36 68 87 57 62 20 72  3 46 33 67 46 55 12 32 63 93 53 69]\n",
      " [ 4 42 16 73 38 25 39 11 24 94 72 18  8 46 29 32 40 62 76 36]\n",
      " [20 69 36 41 72 30 23 88 34 62 99 69 82 67 59 85 74  4 36 16]\n",
      " [20 73 35 29 78 31 90  1 74 31 49 71 48 86 81 16 23 57  5 54]\n",
      " [ 1 70 54 71 83 51 54 69 16 92 33 48 61 43 52  1 89 19 67 48]]\n"
     ]
    }
   ],
   "source": [
    "grid = np.load(\"grid.npy\")\n",
    "print(grid)"
   ]
  },
  {
   "cell_type": "code",
   "execution_count": 112,
   "metadata": {},
   "outputs": [
    {
     "data": {
      "text/plain": [
       "40304286"
      ]
     },
     "execution_count": 112,
     "metadata": {},
     "output_type": "execute_result"
    }
   ],
   "source": [
    "def greatest_right_diag(grid):\n",
    "    return np.max(grid[:-3,:-3] * grid[1:-2, 1:-2] * grid[2:-1, 2:-1] * grid[3:, 3:])\n",
    "greatest_right_diag(grid)"
   ]
  },
  {
   "cell_type": "code",
   "execution_count": 115,
   "metadata": {},
   "outputs": [
    {
     "data": {
      "text/plain": [
       "51267216"
      ]
     },
     "execution_count": 115,
     "metadata": {},
     "output_type": "execute_result"
    }
   ],
   "source": [
    "def greatest_vert(grid):\n",
    "    return np.max(grid[:-3,:] * grid[1:-2, :] * grid[2:-1, :] * grid[3:,:])\n",
    "greatest_vert(grid)"
   ]
  },
  {
   "cell_type": "code",
   "execution_count": 123,
   "metadata": {},
   "outputs": [
    {
     "data": {
      "text/plain": [
       "70600674"
      ]
     },
     "execution_count": 123,
     "metadata": {},
     "output_type": "execute_result"
    }
   ],
   "source": [
    "def greatest_left_diag(grid):\n",
    "    return np.max(grid[3:,:-3] * grid[2:-1, 1:-2] * grid[1:-2, 2:-1] * grid[:-3, 3:])\n",
    "greatest_left_diag(grid)"
   ]
  },
  {
   "cell_type": "code",
   "execution_count": 126,
   "metadata": {},
   "outputs": [],
   "source": [
    "def greatest_adjacent_four(grid):\n",
    "    return max(greatest_right_diag(grid), greatest_vert(grid), greatest_left_diag(grid))"
   ]
  },
  {
   "cell_type": "code",
   "execution_count": 127,
   "metadata": {},
   "outputs": [
    {
     "data": {
      "text/plain": [
       "70600674"
      ]
     },
     "execution_count": 127,
     "metadata": {},
     "output_type": "execute_result"
    }
   ],
   "source": [
    "greatest_adjacent_four(grid)"
   ]
  },
  {
   "cell_type": "code",
   "execution_count": null,
   "metadata": {},
   "outputs": [],
   "source": []
  }
 ],
 "metadata": {
  "kernelspec": {
   "display_name": "Python 3",
   "language": "python",
   "name": "python3"
  },
  "language_info": {
   "codemirror_mode": {
    "name": "ipython",
    "version": 3
   },
   "file_extension": ".py",
   "mimetype": "text/x-python",
   "name": "python",
   "nbconvert_exporter": "python",
   "pygments_lexer": "ipython3",
   "version": "3.6.5"
  }
 },
 "nbformat": 4,
 "nbformat_minor": 2
}
