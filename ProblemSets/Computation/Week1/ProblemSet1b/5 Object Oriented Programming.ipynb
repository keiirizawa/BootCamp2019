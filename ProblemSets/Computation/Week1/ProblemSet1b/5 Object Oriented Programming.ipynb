{
 "cells": [
  {
   "cell_type": "markdown",
   "metadata": {},
   "source": [
    "# Object Oriented Programming"
   ]
  },
  {
   "cell_type": "code",
   "execution_count": 61,
   "metadata": {},
   "outputs": [],
   "source": [
    "import numpy as np"
   ]
  },
  {
   "cell_type": "markdown",
   "metadata": {},
   "source": [
    "## Problem 1"
   ]
  },
  {
   "cell_type": "code",
   "execution_count": 2,
   "metadata": {},
   "outputs": [],
   "source": [
    "class Backpack:\n",
    "    '''A Backpack object class. \n",
    "    \n",
    "    Attributes:\n",
    "        name (str): the name of the backpack's owner.\n",
    "        color (str):\n",
    "        max_size (integer):\n",
    "        contents (list): the contents of the backpack.\n",
    "    '''\n",
    "    \n",
    "    def __init__(self, name, color, max_size=5):\n",
    "        '''\n",
    "        Parameters\n",
    "            name (str): the name of the backpack's owner.\n",
    "            color (str): color of backpack.\n",
    "            max_size (integer): maximum number of contents \n",
    "                accepted to backpack. \n",
    "        '''\n",
    "        self.name = name\n",
    "        self.color = color\n",
    "        self.max_size = max_size \n",
    "        self.contents = []\n",
    "        \n",
    "    def put(self, item):\n",
    "        '''Add 'item' to the backpack's list of contents.\n",
    "        Ensures that contents do not exceed 'max_size'. \n",
    "        '''\n",
    "        if len(self.contents) >= self.max_size:\n",
    "            print(\"No Room!\")\n",
    "        else:\n",
    "            self.contents.append(item)\n",
    "        \n",
    "    def take(self, item):\n",
    "        '''Remove 'item' from the backpack's list of contents.'''\n",
    "        self.contents.remove(item)\n",
    "        \n",
    "    def dump(self):\n",
    "        '''Resets the contents of the backpack to an empty list.'''\n",
    "        self.contents = []"
   ]
  },
  {
   "cell_type": "code",
   "execution_count": 7,
   "metadata": {},
   "outputs": [],
   "source": [
    "def test_backpack():\n",
    "    testpack = Backpack(\"Barry\", \"black\")\n",
    "    if testpack.name != \"Barry\":\n",
    "        print(\"Backpack.name assigned incorrectly\")\n",
    "    for item in [\"pencil\", \"pen\", \"paper\", \"computer\"]:\n",
    "        testpack.put(item)\n",
    "    print(\"Contents:\", testpack.contents)\n",
    "    testpack.take(\"pen\")\n",
    "    print(\"removed pen\")\n",
    "    print(\"Contents:\", testpack.contents)\n",
    "    testpack.dump()\n",
    "    print(\"Dumped contents in backpack\")\n",
    "    print(\"Contents:\", testpack.contents)"
   ]
  },
  {
   "cell_type": "code",
   "execution_count": 8,
   "metadata": {},
   "outputs": [
    {
     "name": "stdout",
     "output_type": "stream",
     "text": [
      "Contents: ['pencil', 'pen', 'paper', 'computer']\n",
      "removed pen\n",
      "Contents: ['pencil', 'paper', 'computer']\n",
      "Dumped contents in backpack\n",
      "Contents: []\n"
     ]
    }
   ],
   "source": [
    "test_backpack()"
   ]
  },
  {
   "cell_type": "code",
   "execution_count": null,
   "metadata": {},
   "outputs": [],
   "source": []
  },
  {
   "cell_type": "markdown",
   "metadata": {},
   "source": [
    "## Problem 2"
   ]
  },
  {
   "cell_type": "code",
   "execution_count": 9,
   "metadata": {},
   "outputs": [],
   "source": [
    "class Jetpack(Backpack):\n",
    "    \"\"\"A Jetpack object class. Inherits from the Backpack class.\n",
    "\n",
    "    Attributes:\n",
    "    name (str): the name of the jetpack's owner.\n",
    "    color (str): the color of the jetpack.\n",
    "    max_size (int): the maximum number of items that can fit inside.\n",
    "    contents (list): the contents of the jetpack.\n",
    "    amnt_fuel (int): amount of fuel left in jetpack. \n",
    "    \"\"\"\n",
    "    \n",
    "    def __init__(self, name, color, max_size=2, amnt_fuel=10):\n",
    "        \"\"\"Use the Backpack constructor to initialize the name, color,\n",
    "        and max_size attributes. A jetpack only holds 2 item by default.\n",
    "        \n",
    "        Parameters:\n",
    "        name (str): the name of the knapsack's owner.\n",
    "        color (str): the color of the knapsack.\n",
    "        max_size (int): the maximum number of items that can fit inside.\n",
    "        amnt_fuel (int): amount of fuel left in jetpack.\n",
    "        \"\"\"\n",
    "        Backpack__init__(self, name, color, max_size)\n",
    "        self.amnt_fuel = amnt_fuel\n",
    "        \n",
    "    def fly(self, amnt_fuel):\n",
    "        '''Decrement amount of fuel left by amount of fuel used to fly.'''\n",
    "        if amnt_fuel > self.amnt_fuel:\n",
    "            print(\"Not enough fuel!\")\n",
    "        else:\n",
    "            self.amnt_fuel =- amnt_fuel\n",
    "    \n",
    "    def dump(self):\n",
    "        '''Resets the contents of the backpack to an empty list and \n",
    "        amount of fuel to zero.\n",
    "        '''\n",
    "        Backpack.dump(self)\n",
    "        self.amnt_fuel = 0    "
   ]
  },
  {
   "cell_type": "code",
   "execution_count": null,
   "metadata": {},
   "outputs": [],
   "source": []
  },
  {
   "cell_type": "markdown",
   "metadata": {},
   "source": [
    "## Problem 3"
   ]
  },
  {
   "cell_type": "code",
   "execution_count": 52,
   "metadata": {},
   "outputs": [],
   "source": [
    "class Backpack:\n",
    "    '''A Backpack object class. \n",
    "    \n",
    "    Attributes:\n",
    "        name (str): the name of the backpack's owner.\n",
    "        color (str):\n",
    "        max_size (integer):\n",
    "        contents (list): the contents of the backpack.\n",
    "    '''\n",
    "    \n",
    "    def __init__(self, name, color, max_size=5):\n",
    "        '''\n",
    "        Parameters\n",
    "            name (str): the name of the backpack's owner.\n",
    "            color (str): color of backpack.\n",
    "            max_size (integer): maximum number of contents \n",
    "                accepted to backpack. \n",
    "        '''\n",
    "        self.name = name\n",
    "        self.color = color\n",
    "        self.max_size = max_size \n",
    "        self.contents = []\n",
    "        \n",
    "    def put(self, item):\n",
    "        '''Add 'item' to the backpack's list of contents.\n",
    "        Ensures that contents do not exceed 'max_size'. \n",
    "        '''\n",
    "        if len(self.contents) >= self.max_size:\n",
    "            print(\"No Room!\")\n",
    "        else:\n",
    "            self.contents.append(item)\n",
    "        \n",
    "    def take(self, item):\n",
    "        '''Remove 'item' from the backpack's list of contents.'''\n",
    "        self.contents.remove(item)\n",
    "        \n",
    "    def dump(self):\n",
    "        '''Resets the contents of the backpack to an empty list.'''\n",
    "        self.contents = []\n",
    "\n",
    "    def __eq__(self, other):\n",
    "        '''Determines if two objects are equal in terms of name, color, \n",
    "        and number of contents. \n",
    "        '''\n",
    "        return (self.name == other.name) & (self.color == other.color) \\\n",
    "        & (len(self.contents) == len(other.contents))\n",
    "    \n",
    "    def __str__(self):\n",
    "        '''String representation of backpack.'''\n",
    "        identity = \"Owner:\\t{}\\nColor:\\t{}\\nSize:\\t{}\\nMax Size:\\t{}\\nContents:\\t{}\\\n",
    "        \".format(self.name, self.color, len(self.contents), \\\n",
    "                 self.max_size, self.contents)    \n",
    "        return identity"
   ]
  },
  {
   "cell_type": "code",
   "execution_count": 57,
   "metadata": {},
   "outputs": [],
   "source": [
    "def test_backpack():\n",
    "    testpack1 = Backpack(\"Barry\", \"black\")\n",
    "    if testpack1.name != \"Barry\":\n",
    "        print(\"Backpack.name assigned incorrectly\")\n",
    "    for item in [\"pencil\", \"pen\", \"paper\", \"computer\"]:\n",
    "        testpack1.put(item)\n",
    "    print(\"Testpack1 Contents:\", testpack1.contents)\n",
    "    \n",
    "    testpack2 = Backpack(\"Barry\", \"black\")\n",
    "    if testpack2.name != \"Barry\":\n",
    "        print(\"Backpack.name assigned incorrectly\")\n",
    "    for item in [\"pencil\", \"pen\", \"paper\", \"computer\"]:\n",
    "        testpack2.put(item)\n",
    "    print(\"Testpacl2 Contents:\", testpack2.contents)\n",
    "    \n",
    "    print(\"Is Testpack1 equibalent to Testpack2? :\", testpack1 == testpack2)\n",
    "    print(\"\\n\")\n",
    "    print(\"testpack1 Identity:\")\n",
    "    print(testpack1)\n",
    "    print(\"\\n\")\n",
    "    print(\"testpack2 Identity:\")\n",
    "    print(testpack2)\n",
    "    "
   ]
  },
  {
   "cell_type": "code",
   "execution_count": 58,
   "metadata": {},
   "outputs": [
    {
     "name": "stdout",
     "output_type": "stream",
     "text": [
      "Testpack1 Contents: ['pencil', 'pen', 'paper', 'computer']\n",
      "Testpacl2 Contents: ['pencil', 'pen', 'paper', 'computer']\n",
      "Is Testpack1 equibalent to Testpack2? : True\n",
      "\n",
      "\n",
      "testpack1 Identity:\n",
      "Owner:\tBarry\n",
      "Color:\tblack\n",
      "Size:\t4\n",
      "Max Size:\t5\n",
      "Contents:\t['pencil', 'pen', 'paper', 'computer']        \n",
      "\n",
      "\n",
      "testpack2 Identity:\n",
      "Owner:\tBarry\n",
      "Color:\tblack\n",
      "Size:\t4\n",
      "Max Size:\t5\n",
      "Contents:\t['pencil', 'pen', 'paper', 'computer']        \n"
     ]
    }
   ],
   "source": [
    "test_backpack()"
   ]
  },
  {
   "cell_type": "code",
   "execution_count": 59,
   "metadata": {},
   "outputs": [
    {
     "ename": "SyntaxError",
     "evalue": "invalid syntax (<ipython-input-59-1cf4ff74c8e4>, line 1)",
     "output_type": "error",
     "traceback": [
      "\u001b[0;36m  File \u001b[0;32m\"<ipython-input-59-1cf4ff74c8e4>\"\u001b[0;36m, line \u001b[0;32m1\u001b[0m\n\u001b[0;31m    NOT SURE HOW TO MAKE THE ALIGNMENT CORRECT???\u001b[0m\n\u001b[0m           ^\u001b[0m\n\u001b[0;31mSyntaxError\u001b[0m\u001b[0;31m:\u001b[0m invalid syntax\n"
     ]
    }
   ],
   "source": [
    "NOT SURE HOW TO MAKE THE ALIGNMENT CORRECT???"
   ]
  },
  {
   "cell_type": "code",
   "execution_count": null,
   "metadata": {},
   "outputs": [],
   "source": []
  },
  {
   "cell_type": "markdown",
   "metadata": {},
   "source": [
    "## Problem 4"
   ]
  },
  {
   "cell_type": "code",
   "execution_count": 99,
   "metadata": {},
   "outputs": [],
   "source": [
    "class ComplexNumber:\n",
    "    '''Complex Number object class.\n",
    "    \n",
    "    Attributes:\n",
    "        real (float): real part of complex number.\n",
    "        imag (float): imaginary part of complex number.\n",
    "    '''\n",
    "    \n",
    "    def __init__(self, real, imag):\n",
    "        '''\n",
    "        Parameters\n",
    "            real (float): real part of complex number.\n",
    "            imag (float): imaginary part of complex number.\n",
    "        '''\n",
    "        self.real = real\n",
    "        self.imag = imag\n",
    "    \n",
    "    def conjugate(self):\n",
    "        '''Returns conjugate of complex number'''\n",
    "        return ComplexNumber(self.real, -self.imag)\n",
    "    \n",
    "    def __abs__(self):\n",
    "        '''Magnitude of complex number '''\n",
    "        return np.sqrt(self.real**2 + self.imag**2)\n",
    "    \n",
    "    def __eq__(self, other):\n",
    "        '''Checks for equality between two complex numbers.'''\n",
    "        return (self.real == other.real) & (self.imag == other.imag)\n",
    "    \n",
    "    def __add__(self, other):\n",
    "        '''Addition between two complex numbers.'''\n",
    "        return ComplexNumber(self.real+other.real, self.imag+other.imag)\n",
    "    \n",
    "    def __sub__(self, other):\n",
    "        '''Subtraction between two complex numbers.'''\n",
    "        return ComplexNumber(self.real-other.real, self.imag-other.imag)\n",
    "    \n",
    "    def __mul__(self, other):\n",
    "        '''Multiplication between two complex numbers.'''\n",
    "        return ComplexNumber(self.real*other.real - self.imag*other.imag, \\\n",
    "                             self.real*other.imag + self.imag*other.real)\n",
    "    \n",
    "    def __truediv__(self, other):\n",
    "        '''Division between two complex numbers.'''\n",
    "        num_real = self.real*other.real+self.imag*other.imag\n",
    "        num_imag = -self.real*other.imag + self.imag*other.real\n",
    "        den = other.real**2 + other.imag**2\n",
    "        \n",
    "        return ComplexNumber(num_real / den, num_imag / den)\n",
    "    \n",
    "    def __str__(self):\n",
    "        '''String representation of complex number.'''\n",
    "        if self.imag >= 0:\n",
    "            return \"({}+{}j)\".format(self.real, self.imag)\n",
    "        else:\n",
    "            return \"({}-{}j)\".format(self.real, self.imag)"
   ]
  },
  {
   "cell_type": "code",
   "execution_count": 93,
   "metadata": {},
   "outputs": [],
   "source": [
    "def test_ComplexNumber(a, b):\n",
    "    py_cnum, my_cnum = complex(a, b), ComplexNumber(a, b)\n",
    "    # Validate the constructor.\n",
    "    if my_cnum.real != a or my_cnum.imag != b:\n",
    "        print(\"__init__() set self.real and self.imag incorrectly\")\n",
    "    # Validate conjugate() by checking the new number's imag attribute.\n",
    "    if py_cnum.conjugate().imag != my_cnum.conjugate().imag:\n",
    "        print(\"conjugate() failed for\", py_cnum)\n",
    "    # Validate __str__().\n",
    "    if str(py_cnum) != str(my_cnum):\n",
    "        print(\"__str__() failed for\", py_cnum)"
   ]
  },
  {
   "cell_type": "code",
   "execution_count": 94,
   "metadata": {},
   "outputs": [],
   "source": [
    "test_ComplexNumber(5, 5)"
   ]
  },
  {
   "cell_type": "code",
   "execution_count": 97,
   "metadata": {},
   "outputs": [],
   "source": [
    "def test_ComplexNumber2():\n",
    "    comp1 = ComplexNumber(3, 4)\n",
    "    comp2 = ComplexNumber(5, 6)\n",
    "    print(\"comp1:\", str(comp1))\n",
    "    print(\"comp2:\", str(comp2))\n",
    "    print(\"\\n\")\n",
    "    \n",
    "    print(\"Conjugate of comp1:\", str(comp1.conjugate()))\n",
    "    print(\"abs(comp1):\", abs(comp1))\n",
    "    print(\"comp1 == comp2:\", comp1==comp2)\n",
    "    print(\"comp1 + comp2:\", comp1 + comp2)\n",
    "    print(\"comp1 - comp2:\", comp1 - comp2)\n",
    "    print(\"comp1 * comp2:\", comp1 * comp2)\n",
    "    print(\"comp1 / comp2:\", comp1 / comp2)    "
   ]
  },
  {
   "cell_type": "code",
   "execution_count": 98,
   "metadata": {},
   "outputs": [
    {
     "name": "stdout",
     "output_type": "stream",
     "text": [
      "comp1: (3+4j)\n",
      "comp2: (5+6j)\n",
      "\n",
      "\n",
      "Conjugate of comp1: (3--4j)\n",
      "abs(comp1): 5.0\n",
      "comp1 == comp2: False\n",
      "comp1 + comp2: (8+10j)\n",
      "comp1 - comp2: (-2--2j)\n",
      "comp1 * comp2: (-9+38j)\n",
      "comp1 / comp2: (0.639344262295082+0.03278688524590164j)\n"
     ]
    }
   ],
   "source": [
    "test_ComplexNumber2()"
   ]
  },
  {
   "cell_type": "code",
   "execution_count": null,
   "metadata": {},
   "outputs": [],
   "source": []
  }
 ],
 "metadata": {
  "kernelspec": {
   "display_name": "Python 3",
   "language": "python",
   "name": "python3"
  },
  "language_info": {
   "codemirror_mode": {
    "name": "ipython",
    "version": 3
   },
   "file_extension": ".py",
   "mimetype": "text/x-python",
   "name": "python",
   "nbconvert_exporter": "python",
   "pygments_lexer": "ipython3",
   "version": "3.6.5"
  }
 },
 "nbformat": 4,
 "nbformat_minor": 2
}
