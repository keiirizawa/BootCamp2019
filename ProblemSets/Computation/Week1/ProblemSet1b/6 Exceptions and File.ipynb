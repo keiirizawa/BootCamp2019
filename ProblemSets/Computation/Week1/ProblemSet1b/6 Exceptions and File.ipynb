{
 "cells": [
  {
   "cell_type": "markdown",
   "metadata": {},
   "source": [
    "# Exceptions and File/IO Lab"
   ]
  },
  {
   "cell_type": "code",
   "execution_count": 11,
   "metadata": {},
   "outputs": [],
   "source": [
    "import numpy as np"
   ]
  },
  {
   "cell_type": "markdown",
   "metadata": {},
   "source": [
    "## Problem 1"
   ]
  },
  {
   "cell_type": "code",
   "execution_count": 3,
   "metadata": {},
   "outputs": [],
   "source": [
    "def arithmagic():\n",
    "    \n",
    "    step_1 = input(\"Enter a 3-digit number where the first and last \"\n",
    "    \"digits differ by 2 or more: \")\n",
    "    \n",
    "    if len(step_1) != 3:\n",
    "        raise ValueError('Not three digits!')\n",
    "        \n",
    "    if abs(int(step_1[2]) - int(step_1[0])) < 2:\n",
    "        raise ValueError(\"Fist and last digits do not differ by 2 or more!\")\n",
    "    \n",
    "    \n",
    "    step_2 = input(\"Enter the reverse of the first number, obtained \"\n",
    "    \"by reading it backwards: \")\n",
    "    \n",
    "    if step_2 != step_1[::-1]:\n",
    "        raise ValueError(\"Not the reverse of the first number!\")\n",
    "    \n",
    "    \n",
    "    step_3 = input(\"Enter the positive difference of these numbers: \")\n",
    "    \n",
    "    if int(step_3) != abs(int(step_2) - int(step_1)):\n",
    "        raise ValueError(\"Not the positive difference of the first two numbers!\")\n",
    "    \n",
    "    \n",
    "    step_4 = input(\"Enter the reverse of the previous result: \")\n",
    "    \n",
    "    if step_4 != step_3[::-1]:\n",
    "        raise ValueError(\"Not the reverse of third number!\")\n",
    "    \n",
    "    print(str(step_3), \"+\", str(step_4), \"= 1089 (ta-da!)\")"
   ]
  },
  {
   "cell_type": "code",
   "execution_count": 5,
   "metadata": {},
   "outputs": [
    {
     "ename": "ValueError",
     "evalue": "Not the positive difference of the first two numbers!",
     "output_type": "error",
     "traceback": [
      "\u001b[0;31m---------------------------------------------------------------------------\u001b[0m",
      "\u001b[0;31mValueError\u001b[0m                                Traceback (most recent call last)",
      "\u001b[0;32m<ipython-input-5-f603d848579d>\u001b[0m in \u001b[0;36m<module>\u001b[0;34m()\u001b[0m\n\u001b[0;32m----> 1\u001b[0;31m \u001b[0marithmagic\u001b[0m\u001b[0;34m(\u001b[0m\u001b[0;34m)\u001b[0m\u001b[0;34m\u001b[0m\u001b[0m\n\u001b[0m",
      "\u001b[0;32m<ipython-input-3-fd76abdc21a5>\u001b[0m in \u001b[0;36marithmagic\u001b[0;34m()\u001b[0m\n\u001b[1;32m     21\u001b[0m \u001b[0;34m\u001b[0m\u001b[0m\n\u001b[1;32m     22\u001b[0m     \u001b[0;32mif\u001b[0m \u001b[0mint\u001b[0m\u001b[0;34m(\u001b[0m\u001b[0mstep_3\u001b[0m\u001b[0;34m)\u001b[0m \u001b[0;34m!=\u001b[0m \u001b[0mabs\u001b[0m\u001b[0;34m(\u001b[0m\u001b[0mint\u001b[0m\u001b[0;34m(\u001b[0m\u001b[0mstep_2\u001b[0m\u001b[0;34m)\u001b[0m \u001b[0;34m-\u001b[0m \u001b[0mint\u001b[0m\u001b[0;34m(\u001b[0m\u001b[0mstep_1\u001b[0m\u001b[0;34m)\u001b[0m\u001b[0;34m)\u001b[0m\u001b[0;34m:\u001b[0m\u001b[0;34m\u001b[0m\u001b[0m\n\u001b[0;32m---> 23\u001b[0;31m         \u001b[0;32mraise\u001b[0m \u001b[0mValueError\u001b[0m\u001b[0;34m(\u001b[0m\u001b[0;34m\"Not the positive difference of the first two numbers!\"\u001b[0m\u001b[0;34m)\u001b[0m\u001b[0;34m\u001b[0m\u001b[0m\n\u001b[0m\u001b[1;32m     24\u001b[0m \u001b[0;34m\u001b[0m\u001b[0m\n\u001b[1;32m     25\u001b[0m \u001b[0;34m\u001b[0m\u001b[0m\n",
      "\u001b[0;31mValueError\u001b[0m: Not the positive difference of the first two numbers!"
     ]
    }
   ],
   "source": [
    "arithmagic()"
   ]
  },
  {
   "cell_type": "code",
   "execution_count": null,
   "metadata": {},
   "outputs": [],
   "source": []
  },
  {
   "cell_type": "markdown",
   "metadata": {},
   "source": [
    "## Problem 2"
   ]
  },
  {
   "cell_type": "code",
   "execution_count": 25,
   "metadata": {},
   "outputs": [],
   "source": [
    "from random import choice\n",
    "\n",
    "def random_walk(max_iters=1e12):\n",
    "    \n",
    "    try:\n",
    "        walk = 0\n",
    "        directions = [1, -1]\n",
    "        for i in range(int(max_iters)):\n",
    "            walk += choice(directions)\n",
    "    except KeyboardInterrupt:\n",
    "         print(\"Process Interrupted as iteration {}.\".format(i))\n",
    "    else:\n",
    "        print(\"Process completed.\")\n",
    "    finally:\n",
    "        return walk"
   ]
  },
  {
   "cell_type": "code",
   "execution_count": 26,
   "metadata": {},
   "outputs": [
    {
     "name": "stdout",
     "output_type": "stream",
     "text": [
      "Process Interrupted as iteration 2441774.\n"
     ]
    },
    {
     "data": {
      "text/plain": [
       "-1560"
      ]
     },
     "execution_count": 26,
     "metadata": {},
     "output_type": "execute_result"
    }
   ],
   "source": [
    "random_walk()"
   ]
  },
  {
   "cell_type": "code",
   "execution_count": null,
   "metadata": {},
   "outputs": [],
   "source": []
  },
  {
   "cell_type": "markdown",
   "metadata": {},
   "source": [
    "## Problem 3"
   ]
  },
  {
   "cell_type": "code",
   "execution_count": 29,
   "metadata": {},
   "outputs": [],
   "source": [
    "class ContentFilter:\n",
    "    \n",
    "    def __init__(self, fname):\n",
    "        try:\n",
    "            with open(file, 'r') as f:\n",
    "                self.file = fname\n",
    "                self.content = f.readlines()\n",
    "        \n",
    "        except:\n",
    "            new_fname = input(\"Please enter a valid file name:\")\n",
    "            self.__init__(new_fname)"
   ]
  },
  {
   "cell_type": "code",
   "execution_count": null,
   "metadata": {},
   "outputs": [],
   "source": []
  },
  {
   "cell_type": "markdown",
   "metadata": {},
   "source": [
    "## Problem 4"
   ]
  },
  {
   "cell_type": "code",
   "execution_count": 33,
   "metadata": {},
   "outputs": [],
   "source": [
    "class ContentFilter:\n",
    "    \n",
    "    def __init__(self, fname):\n",
    "        try:\n",
    "            with open(fname, 'r') as f:\n",
    "                self.file = fname\n",
    "                self.content = f.readlines()\n",
    "        \n",
    "        except:\n",
    "            new_fname = input(\"Please enter a valid file name:\")\n",
    "            self.__init__(new_fname)\n",
    "        \n",
    "        self.char = sum([len(line) for line in self.content])\n",
    "        \n",
    "        self.char = 0\n",
    "        self.alpha_char = 0\n",
    "        self.numer_char = 0\n",
    "        self.whit_char = 0\n",
    "        self.num_lines = 0\n",
    "        \n",
    "        for line in self.content:\n",
    "            self.char += len(line)\n",
    "            self.alpha_char += sum([word.isalpha() for word in line])\n",
    "            self.numer_char += sum([word.isdigit() for word in line])\n",
    "            self.whit_char += sum([word.isspace() for word in line])\n",
    "            self.num_lines += 1\n",
    "                \n",
    "    def uniform(self, fname, mode='w', case='upper'):\n",
    "        \n",
    "        if mode not in ['w', 'x', 'a']:\n",
    "            raise ValueError(\"Mode must be 'w', 'x', or 'a'!\")\n",
    "        elif case not in ['lower', 'upper']:\n",
    "            raise ValueError(\"Case must be 'lower' or 'upper'!\")\n",
    "        \n",
    "        with open(fname, mode) as outfile:\n",
    "            if case == 'upper':\n",
    "                for line in self.content:\n",
    "                    outfile.write(line.upper() + \"\\n\")\n",
    "            else:\n",
    "                for line in self.content:\n",
    "                    outfile.write(line.lower() + \"\\n\")\n",
    "    \n",
    "    def reverse(self, fname, mode='w', unit='line'):\n",
    "        \n",
    "        if mode not in ['w', 'x', 'a']:\n",
    "            raise ValueError(\"mode must be 'w', 'x', or 'a'!\")\n",
    "        elif unit not in ['line', 'word']:\n",
    "            raise ValueError(\"unit must be 'line' or 'word'!\")\n",
    "            \n",
    "        with open(fname, mode) as outfile:\n",
    "            if unit == 'line':\n",
    "                for line in self.content:\n",
    "                    words = line.split()\n",
    "                    rev_line = \" \".join(reversed(words))\n",
    "                    outfile.write(rev_line + \"\\n\")\n",
    "            else:\n",
    "                for line in self.content:\n",
    "                    outfile.write(line[::-1] + \"\\n\")\n",
    "                    \n",
    "    def transpose(self, fname, mode='w'):\n",
    "        \n",
    "        if mode not in ['w', 'x', 'a']:\n",
    "            raise ValueError(\"mode must be 'w', 'x', or 'a'!\")\n",
    "        \n",
    "        mat_word = []\n",
    "        for line in self.content:\n",
    "            words = line.split()\n",
    "            mat_word.append(words)\n",
    "                \n",
    "        mat_word = np.array(mat_word).T\n",
    "                        \n",
    "        with open(fname, mode) as outfile:\n",
    "            for row in mat_word:\n",
    "                line = \" \".join(row)\n",
    "                outfile.write(line + \"\\n\")\n",
    "        \n",
    "    def __str__(self):\n",
    "        stats = \"Source file:\\t{}\\n\".format(self.file)\n",
    "        stats += \"Total characters:\\t{}\\n\".format(self.char)\n",
    "        stats += \"Alphabetic characters:\\t{}\\n\".format(self.alpha_char)\n",
    "        stats += \"Numerical characters:\\t{}\\n\".format(self.numer_char)\n",
    "        stats += \"Whitespace characters:\\t{}\\n\".format(self.whit_char)\n",
    "        stats += \"Number of lines:\\t{}\".format(self.num_lines)\n",
    "        \n",
    "        return stats"
   ]
  },
  {
   "cell_type": "code",
   "execution_count": 34,
   "metadata": {},
   "outputs": [],
   "source": [
    "cf = ContentFilter(\"cf_example1.txt\")"
   ]
  },
  {
   "cell_type": "code",
   "execution_count": 35,
   "metadata": {},
   "outputs": [],
   "source": [
    "cf.uniform(\"uniform.txt\", mode='w', case=\"upper\")"
   ]
  },
  {
   "cell_type": "code",
   "execution_count": 36,
   "metadata": {},
   "outputs": [],
   "source": [
    "cf.uniform(\"uniform.txt\", mode='a', case=\"lower\")"
   ]
  },
  {
   "cell_type": "code",
   "execution_count": 37,
   "metadata": {},
   "outputs": [],
   "source": [
    "cf.reverse(\"reverse.txt\", mode='w', unit=\"word\")"
   ]
  },
  {
   "cell_type": "code",
   "execution_count": 38,
   "metadata": {},
   "outputs": [],
   "source": [
    "cf.reverse(\"reverse.txt\", mode='a', unit=\"line\")"
   ]
  },
  {
   "cell_type": "code",
   "execution_count": 39,
   "metadata": {},
   "outputs": [],
   "source": [
    "cf.transpose(\"transpose.txt\", mode='w')"
   ]
  },
  {
   "cell_type": "code",
   "execution_count": 40,
   "metadata": {},
   "outputs": [
    {
     "name": "stdout",
     "output_type": "stream",
     "text": [
      "Source file:\tcf_example1.txt\n",
      "Total characters:\t11\n",
      "Alphabetic characters:\t6\n",
      "Numerical characters:\t0\n",
      "Whitespace characters:\t5\n",
      "Number of lines:\t2\n"
     ]
    }
   ],
   "source": [
    "print(cf)"
   ]
  },
  {
   "cell_type": "code",
   "execution_count": null,
   "metadata": {},
   "outputs": [],
   "source": []
  }
 ],
 "metadata": {
  "kernelspec": {
   "display_name": "Python 3",
   "language": "python",
   "name": "python3"
  },
  "language_info": {
   "codemirror_mode": {
    "name": "ipython",
    "version": 3
   },
   "file_extension": ".py",
   "mimetype": "text/x-python",
   "name": "python",
   "nbconvert_exporter": "python",
   "pygments_lexer": "ipython3",
   "version": "3.6.5"
  }
 },
 "nbformat": 4,
 "nbformat_minor": 2
}
