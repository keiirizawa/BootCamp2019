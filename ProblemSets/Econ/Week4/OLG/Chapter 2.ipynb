{
 "cells": [
  {
   "cell_type": "markdown",
   "metadata": {},
   "source": [
    "# Chapter 2 (3-period lived Agents with Exogenous Labor Supply)"
   ]
  },
  {
   "cell_type": "markdown",
   "metadata": {},
   "source": [
    "Code is based on OG-USA."
   ]
  },
  {
   "cell_type": "code",
   "execution_count": 2,
   "metadata": {},
   "outputs": [],
   "source": [
    "import numpy as np \n",
    "import time \n",
    "import scipy.optimize as opt\n",
    "from matplotlib import pyplot as plt\n",
    "import scipy.linalg as la"
   ]
  },
  {
   "cell_type": "code",
   "execution_count": 6,
   "metadata": {},
   "outputs": [],
   "source": [
    "# parameters for the model\n",
    "beta = 0.96 ** 20\n",
    "delta = 1 - (1 - 0.05) ** 20\n",
    "sigma = 3\n",
    "A = 1\n",
    "alpha = 0.35\n",
    "\n",
    "nvec = np.array([1, 1, 0.2])\n",
    "L = np.sum(nvec)\n",
    "SS_tol = 1e-15"
   ]
  },
  {
   "cell_type": "code",
   "execution_count": 7,
   "metadata": {},
   "outputs": [],
   "source": [
    "def get_L(nvec):\n",
    "    L = np.sum(nvec)\n",
    "    return L\n",
    "\n",
    "def get_K(bvec):\n",
    "    K = np.sum(bvec)\n",
    "    return K\n",
    "\n",
    "def get_r(K, L, params):\n",
    "    alpha, A, delta = params\n",
    "    r = alpha * A * (L / K) ** (1 - alpha) - delta\n",
    "    return r\n",
    "    \n",
    "def get_w(K, L, params):\n",
    "    alpha, A = params\n",
    "    w = (1 - alpha) * A * (K / L) ** alpha\n",
    "    return w\n",
    "\n",
    "def get_Y(K, L, params):\n",
    "    alpha, A = params\n",
    "    Y = A * (K ** alpha) * (L ** (1 - alpha))\n",
    "    return Y\n",
    "\n",
    "def get_C(cvec):\n",
    "    C = np.sum(cvec)\n",
    "    return C"
   ]
  },
  {
   "cell_type": "markdown",
   "metadata": {},
   "source": [
    "## Exercise 2.1"
   ]
  },
  {
   "cell_type": "code",
   "execution_count": 8,
   "metadata": {},
   "outputs": [],
   "source": [
    "def feasible(f_params, bvec_guess):\n",
    "    '''\n",
    "    input\n",
    "        f_params: (nvec, A, alpha, delta)\n",
    "        bvec_guess: guess for steady-state savings vector in the form np.array([scalar, scalar])\n",
    "    '''\n",
    "    nvec, A, alpha, delta = f_params\n",
    "    b2, b3 = bvec_guess\n",
    "    n1, n2, n3 = nvec\n",
    "    \n",
    "    b_cnstr = np.full((2), False, dtype=bool)\n",
    "    c_cnstr = np.full((3), False, dtype=bool)\n",
    "    K_cnstr = np.full((1), False, dtype=bool)\n",
    "    \n",
    "    K = get_K(bvec_guess)\n",
    "    K_cnstr = K < 0\n",
    "    L = get_L(nvec)\n",
    "    \n",
    "    r_params = (alpha, A, delta)\n",
    "    r = get_r(K, L, r_params)\n",
    "    w_params = (alpha, A)\n",
    "    w = get_w(K, L, w_params)\n",
    "    \n",
    "    # HH age-specific budget constraint\n",
    "    c_cnstr[0] = n1 * w - b2 < 0\n",
    "    c_cnstr[1] = n2 * w + (1 + r) * b2 - b3 < 0\n",
    "    c_cnstr[2] = n3 * w + (1 + r) * b3 < 0\n",
    "    \n",
    "    if c_cnstr[0]:\n",
    "        b_cnstr[0] = True\n",
    "    if c_cnstr[1]:\n",
    "        b_cnstr[1] = b_cnstr[2] = True\n",
    "    if c_cnstr[2]:\n",
    "        b_cnstr[2] = True\n",
    "    \n",
    "    return b_cnstr, c_cnstr, K_cnstr"
   ]
  },
  {
   "cell_type": "markdown",
   "metadata": {},
   "source": [
    "#### Part a"
   ]
  },
  {
   "cell_type": "code",
   "execution_count": 12,
   "metadata": {},
   "outputs": [
    {
     "name": "stdout",
     "output_type": "stream",
     "text": [
      "b constraint:  [ True False]\n",
      "c constraint:  [ True False False]\n",
      "K constraint:  False\n"
     ]
    }
   ],
   "source": [
    "f_params = np.array([nvec, A, alpha, delta])\n",
    "bvec_guess = np.array([1.0, 1.2])\n",
    "b_cnstr, c_cnstr, K_cnstr = feasible(f_params, bvec_guess)\n",
    "print(\"b constraint: \", b_cnstr)\n",
    "print(\"c constraint: \", c_cnstr)\n",
    "print(\"K constraint: \", K_cnstr)"
   ]
  },
  {
   "cell_type": "markdown",
   "metadata": {},
   "source": [
    "#### Part b"
   ]
  },
  {
   "cell_type": "code",
   "execution_count": 13,
   "metadata": {},
   "outputs": [
    {
     "name": "stdout",
     "output_type": "stream",
     "text": [
      "b constraint:  [False False]\n",
      "c constraint:  [False False False]\n",
      "K constraint:  False\n"
     ]
    }
   ],
   "source": [
    "bvec_guess = np.array([0.06, -0.001])\n",
    "b_cnstr, c_cnstr, K_cnstr = feasible(f_params, bvec_guess)\n",
    "print(\"b constraint: \", b_cnstr)\n",
    "print(\"c constraint: \", c_cnstr)\n",
    "print(\"K constraint: \", K_cnstr)"
   ]
  },
  {
   "cell_type": "markdown",
   "metadata": {},
   "source": [
    "#### Part c"
   ]
  },
  {
   "cell_type": "code",
   "execution_count": 14,
   "metadata": {},
   "outputs": [
    {
     "name": "stdout",
     "output_type": "stream",
     "text": [
      "b constraint:  [False False]\n",
      "c constraint:  [False False False]\n",
      "K constraint:  False\n"
     ]
    }
   ],
   "source": [
    "bvec_guess = np.array([0.1, 0.1])\n",
    "b_cnstr, c_cnstr, K_cnstr = feasible(f_params, bvec_guess)\n",
    "print(\"b constraint: \", b_cnstr)\n",
    "print(\"c constraint: \", c_cnstr)\n",
    "print(\"K constraint: \", K_cnstr)"
   ]
  },
  {
   "cell_type": "code",
   "execution_count": null,
   "metadata": {},
   "outputs": [],
   "source": []
  },
  {
   "cell_type": "markdown",
   "metadata": {},
   "source": [
    "## Exercise 2.2"
   ]
  },
  {
   "cell_type": "code",
   "execution_count": 16,
   "metadata": {},
   "outputs": [],
   "source": [
    "def get_cons(bvec, args):  \n",
    "    '''\n",
    "    bvec: savings of remaining periods of life\n",
    "    '''\n",
    "    nvec, r, w = args\n",
    "    bs = np.append(0.0, bvec)  # because inherit 0 savings when born\n",
    "    bsp = np.append(bvec, 0.0)  # because leave 0 savings before end of life\n",
    "    cvec = (1 + r) * bs + w * nvec - bsp\n",
    "    \n",
    "    return cvec"
   ]
  },
  {
   "cell_type": "code",
   "execution_count": 17,
   "metadata": {},
   "outputs": [],
   "source": [
    "def get_MU_c(cvec, sigma, graph=True):\n",
    "\n",
    "    MU_c = cvec ** (-sigma)\n",
    "    return MU_c"
   ]
  },
  {
   "cell_type": "code",
   "execution_count": 18,
   "metadata": {},
   "outputs": [],
   "source": [
    "def get_b_EE(cvec, args):\n",
    "    \n",
    "    beta, sigma, r = args\n",
    "    mu_c = get_MU_c(cvec[:-1], sigma)\n",
    "    mu_cp = get_MU_c(cvec[1:], sigma)\n",
    "    \n",
    "    EE_b_errs = (beta * (1 + r) * mu_cp) - mu_c\n",
    "    return EE_b_errs"
   ]
  },
  {
   "cell_type": "code",
   "execution_count": 19,
   "metadata": {},
   "outputs": [],
   "source": [
    "def get_SS_EE(bvec, *args):\n",
    "    \n",
    "    nvec, beta, sigma, A, alpha, delta = args\n",
    "    K = get_K(bvec)\n",
    "    L = get_L(nvec)\n",
    "    r_params = (alpha, A, delta)\n",
    "    r = get_r(K, L, r_params)\n",
    "    w_params = (alpha, A)\n",
    "    w = get_w(K, L, w_params)\n",
    "    c_args = (nvec, r, w)\n",
    "    cvec = get_cons(bvec, c_args)\n",
    "    b_args = (beta, sigma, r)\n",
    "    EE = get_b_EE(cvec, b_args)\n",
    "    \n",
    "    return EE"
   ]
  },
  {
   "cell_type": "code",
   "execution_count": 20,
   "metadata": {},
   "outputs": [],
   "source": [
    "def get_SS_graphs(c_ss, b_ss):\n",
    "    \n",
    "    S = len(c_ss)\n",
    "    b_ss2 = np.append(0.0, b_ss)\n",
    "    age_pers = np.arange(1, S+1)\n",
    "    \n",
    "    plt.plot(age_pers, c_ss, marker='D', label='Consumption')\n",
    "    plt.grid(b=True, which='major', color='0.65', linestyle='-')\n",
    "    plt.xlabel(r'Age $s$')\n",
    "    plt.ylabel(r'Units of consumption')\n",
    "    plt.xlim((0, S + 1))\n",
    "    plt.legend(loc='upper left')\n",
    "    plt.show()\n",
    "    \n",
    "    plt.plot(age_pers, b_ss2, marker='D', label='Savings')\n",
    "    plt.grid(b=True, which='major', color='0.65', linestyle='-')\n",
    "    plt.xlabel(r'Age $s$')\n",
    "    plt.ylabel(r'Units of consumption')\n",
    "    plt.xlim((0, S + 1))\n",
    "    plt.legend(loc='upper left')\n",
    "    plt.show()"
   ]
  },
  {
   "cell_type": "code",
   "execution_count": 21,
   "metadata": {},
   "outputs": [],
   "source": [
    "def get_SS(params, bvec_guess, SS_graphs):\n",
    "    \n",
    "    beta, sigma, nvec, L, A, alpha, delta, SS_tol = params\n",
    "    \n",
    "    start_time = time.clock()\n",
    "    \n",
    "    EE_args = (nvec, beta, sigma, A, alpha, delta)\n",
    "    results_EE = opt.root(get_SS_EE, bvec_guess, args=EE_args, tol=SS_tol)\n",
    "    b_ss = results_EE.x\n",
    "    EulErr_ss = results_EE.fun\n",
    "    \n",
    "    K_ss = get_K(b_ss)\n",
    "    r_params = (alpha, A, delta)\n",
    "    r_ss = get_r(K_ss, L, r_params)\n",
    "    w_params = (alpha, A)\n",
    "    w_ss = get_w(K_ss, L, w_params)\n",
    "    c_args = (nvec, r_ss, w_ss)\n",
    "    c_ss = get_cons(b_ss, c_args)\n",
    "    \n",
    "    Y_params = (alpha, A)\n",
    "    Y_ss = get_Y(K_ss, L, Y_params)\n",
    "    C_ss = get_C(c_ss)\n",
    "    \n",
    "    RCerr_ss = Y_ss - C_ss - delta * K_ss\n",
    "    \n",
    "    ss_time = time.clock() - start_time\n",
    "    \n",
    "    ss_output = {\n",
    "        'b_ss': b_ss, \n",
    "        'c_ss': c_ss, \n",
    "        'w_ss': w_ss, \n",
    "        'r_ss': r_ss,\n",
    "        'K_ss': K_ss, \n",
    "        'Y_ss': Y_ss, \n",
    "        'C_ss': C_ss,\n",
    "        'EulErr_ss': EulErr_ss,\n",
    "        'RCerr_ss': RCerr_ss,\n",
    "        'ss_time': ss_time\n",
    "    }\n",
    "    \n",
    "    if SS_graphs: \n",
    "        get_SS_graphs(c_ss, b_ss)\n",
    "        \n",
    "    return ss_output"
   ]
  },
  {
   "cell_type": "code",
   "execution_count": 23,
   "metadata": {},
   "outputs": [],
   "source": [
    "# parameters for the model\n",
    "S = 3\n",
    "beta = .442\n",
    "delta = .6415\n",
    "sigma = 3\n",
    "A = 1\n",
    "alpha = 0.35\n",
    "\n",
    "s = np.round(2 * S / 3)\n",
    "nvec1 = np.ones(int(s)) * 1\n",
    "nvec2 = np.ones(int(S - s)) * 0.2\n",
    "nvec = np.concatenate((nvec1, nvec2), axis=None)\n",
    "L = np.sum(nvec)\n",
    "\n",
    "bvec_guess = np.ones(S - 1) * 0.003\n",
    "SS_tol = 1e-8\n",
    "SS_graphs=True"
   ]
  },
  {
   "cell_type": "markdown",
   "metadata": {},
   "source": [
    "#### Part a, b"
   ]
  },
  {
   "cell_type": "code",
   "execution_count": 24,
   "metadata": {},
   "outputs": [
    {
     "data": {
      "image/png": "[encoded data removed]",
      "text/plain": [
       "<Figure size 432x288 with 1 Axes>"
      ]
     },
     "metadata": {},
     "output_type": "display_data"
    },
    {
     "data": {
      "image/png": "[encoded data removed]",
      "text/plain": [
       "<Figure size 432x288 with 1 Axes>"
      ]
     },
     "metadata": {},
     "output_type": "display_data"
    },
    {
     "data": {
      "text/plain": [
       "{'b_ss': array([0.01931253, 0.0584111 ]),\n",
       " 'c_ss': array([0.18241213, 0.20961468, 0.24087387]),\n",
       " 'w_ss': 0.20172465739052575,\n",
       " 'r_ss': 2.433062339127069,\n",
       " 'K_ss': 0.07772362575316386,\n",
       " 'Y_ss': 0.6827603788602411,\n",
       " 'C_ss': 0.6329006729395864,\n",
       " 'EulErr_ss': array([ 1.39266376e-12, -2.62900812e-12]),\n",
       " 'RCerr_ss': 8.326672684688674e-17,\n",
       " 'ss_time': 0.005984000000000211}"
      ]
     },
     "execution_count": 24,
     "metadata": {},
     "output_type": "execute_result"
    }
   ],
   "source": [
    "bvec_guess = [.1, .1]\n",
    "params = (beta, sigma, nvec, L, A, alpha, delta, SS_tol)\n",
    "get_SS(params, bvec_guess, SS_graphs)"
   ]
  },
  {
   "cell_type": "markdown",
   "metadata": {},
   "source": [
    "#### Part c"
   ]
  },
  {
   "cell_type": "code",
   "execution_count": 25,
   "metadata": {},
   "outputs": [
    {
     "data": {
      "image/png": "[encoded data removed]",
      "text/plain": [
       "<Figure size 432x288 with 1 Axes>"
      ]
     },
     "metadata": {},
     "output_type": "display_data"
    },
    {
     "data": {
      "image/png": "[encoded data removed]",
      "text/plain": [
       "<Figure size 432x288 with 1 Axes>"
      ]
     },
     "metadata": {},
     "output_type": "display_data"
    },
    {
     "data": {
      "text/plain": [
       "{'b_ss': array([0.02817692, 0.07686545]),\n",
       " 'c_ss': array([0.19597528, 0.22861594, 0.26669307]),\n",
       " 'w_ss': 0.22415219593351624,\n",
       " 'r_ss': 1.8863765057388953,\n",
       " 'K_ss': 0.10504237022470767,\n",
       " 'Y_ss': 0.7586689708519012,\n",
       " 'C_ss': 0.6912842903527512,\n",
       " 'EulErr_ss': array([ 7.52825713e-09, -4.26037161e-09]),\n",
       " 'RCerr_ss': 6.938893903907228e-17,\n",
       " 'ss_time': 0.005194000000000365}"
      ]
     },
     "execution_count": 25,
     "metadata": {},
     "output_type": "execute_result"
    }
   ],
   "source": [
    "beta = 0.55\n",
    "bvec_guess = np.ones(S - 1) * 0.003\n",
    "params = ((beta, sigma, nvec, L, A, alpha, delta, SS_tol))\n",
    "get_SS(params, bvec_guess, SS_graphs)"
   ]
  },
  {
   "cell_type": "code",
   "execution_count": null,
   "metadata": {},
   "outputs": [],
   "source": []
  },
  {
   "cell_type": "markdown",
   "metadata": {},
   "source": [
    "## Exercise 2.3"
   ]
  },
  {
   "cell_type": "code",
   "execution_count": 26,
   "metadata": {},
   "outputs": [],
   "source": [
    "def mu_cons(c, sigma):\n",
    "    '''\n",
    "    Assume CRRA Utility function. \n",
    "    '''\n",
    "    return c ** (-sigma)"
   ]
  },
  {
   "cell_type": "code",
   "execution_count": 27,
   "metadata": {},
   "outputs": [],
   "source": [
    "def get_cvec(nvec, w1, w2, w3, r2, r3, b22, b33):\n",
    "    \n",
    "    c1 = nvec[0] * w1 - b22\n",
    "    c2 = nvec[1] * w2 + (1 + r2) *  b22 - b33\n",
    "    c3 = (1 + r3) * b33 + nvec[2] * w3\n",
    "    \n",
    "    return c1, c2, c3"
   ]
  },
  {
   "cell_type": "code",
   "execution_count": 28,
   "metadata": {},
   "outputs": [],
   "source": [
    "def firstdoughnutring(b32, *args):\n",
    "    \n",
    "    # Consider as if period 1 agent: \n",
    "    w1, w2, r1, r2, b21, nvec, sigma = args    \n",
    "    c1, c2, c3 = get_cvec(nvec, 1, w1, w2, r1, r2, b21, b32)\n",
    "    \n",
    "    EE = mu_cons(c2, sigma) - beta * (1 + r2) \\\n",
    "            * mu_cons(c3, sigma)\n",
    "    \n",
    "    return EE"
   ]
  },
  {
   "cell_type": "code",
   "execution_count": 29,
   "metadata": {},
   "outputs": [],
   "source": [
    "def twist_doughnut(bvec, *args):\n",
    "    \n",
    "    # Consider as if period 1 agent: \n",
    "    w1, w2, w3, r2, r3, nvec, sigma = args\n",
    "    b22, b33 = bvec\n",
    "    c1, c2, c3 = get_cvec(nvec, w1, w2, w3, r2, r3, b22, b33)\n",
    "    \n",
    "    EE1 = mu_cons(c1, sigma) - beta * (1 + r2) * mu_cons(c2, sigma)\n",
    "    EE2 = mu_cons(c2, sigma) - beta * (1 + r3) * mu_cons(c3, sigma)\n",
    "    \n",
    "    return np.array([EE1, EE2])"
   ]
  },
  {
   "cell_type": "code",
   "execution_count": 30,
   "metadata": {},
   "outputs": [],
   "source": [
    "def get_TPI_graphs(K_path, K_bar, w_path, w_bar, r_path, r_bar):\n",
    "    \n",
    "    S = len(K_path)\n",
    "    age = np.arange(1, S-3)\n",
    "    \n",
    "    plt.plot(K_path[:-4], marker='D', label='Aggregate Capital Stock')\n",
    "    plt.hlines(K_bar, -1, T, label='SS Capital')\n",
    "    plt.grid(b=True, which='major', color='0.65', linestyle='-')\n",
    "    plt.xlabel('Time')\n",
    "    plt.ylabel('Level')\n",
    "    plt.title('Equilibrium Time Path of Aggregate Capital Stock')\n",
    "    plt.legend(loc='upper left')\n",
    "    plt.show()\n",
    "    \n",
    "    plt.plot(w_path[:-4], marker='D', label='Wage')\n",
    "    plt.hlines(w_bar, -1, T, label='SS Wage')\n",
    "    plt.grid(b=True, which='major', color='0.65', linestyle='-')\n",
    "    plt.xlabel('Time')\n",
    "    plt.ylabel('Level')\n",
    "    plt.title('Equilibrium Time Path of Wage')\n",
    "    plt.legend(loc='upper left')\n",
    "    plt.show()\n",
    "    \n",
    "    plt.plot(r_path[:-4], marker='D', label='Interest Rate')\n",
    "    plt.hlines(r_bar, -1, T, label='SS Interest Rate')\n",
    "    plt.grid(b=True, which='major', color='0.65', linestyle='-')\n",
    "    plt.xlabel('Time')\n",
    "    plt.ylabel('Level')\n",
    "    plt.title('Equilibrium Time Path of Interest Rate')\n",
    "    plt.legend(loc='upper left')\n",
    "    plt.show()"
   ]
  },
  {
   "cell_type": "code",
   "execution_count": 31,
   "metadata": {},
   "outputs": [],
   "source": [
    "def get_TPI(params, T, SS_tol, TPI_tol, TPI_graph=True):\n",
    "    \n",
    "    beta, sigma, xi, nvec, L, A, alpha, delta, SS_tol = params\n",
    "    start_time = time.clock()\n",
    "    \n",
    "    # Step 1: Solve for SS b2_bar, b3_bar => K_bar, r_bar, w_bar\n",
    "    #params_ss = (beta, sigma, nvec, L, A, alpha, delta, SS_tol)\n",
    "    params_ss = (beta, sigma, nvec, L, A, alpha, delta, SS_tol)\n",
    "    \n",
    "    bvec_guess = (0.005, 0.005)\n",
    "    output = get_SS(params_ss, bvec_guess, SS_graphs=False)\n",
    "    K_bar = output['K_ss']\n",
    "    r_bar = output['r_ss']\n",
    "    w_bar = output['w_ss']\n",
    "    b2_bar, b3_bar = output['b_ss']\n",
    "    \n",
    "    # Step 2: Given guess T, guess K_path\n",
    "    b21 = 0.8 * b2_bar\n",
    "    b31 = 1.1 * b3_bar\n",
    "    bvec1 = np.array([b21, b31])\n",
    "    K1 = np.sum(bvec1)\n",
    "    K_path = np.linspace(K1, K_bar, T+3)\n",
    "    \n",
    "    # Step 3: Given guess K_path, => r_path, w_path\n",
    "    r_params = alpha, A, delta \n",
    "    r_path = get_r(K_path, L, r_params)  \n",
    "    w_params = alpha, A\n",
    "    w_path = get_w(K_path, L, w_params)\n",
    "    \n",
    "    # Step 4: solve HH solution of [b_{2,t+1}, b_{3,t+1}] from t=1 to T\n",
    "    bmat = np.zeros((T+3+1, 2))\n",
    "    bmat[0,:] = (b21, b31)\n",
    "    EulErrs = np.zeros((T+3+1, 2))\n",
    "    \n",
    "    ## solve for b32\n",
    "    w1, w2, r1, r2 = w_path[0], w_path[1], r_path[0], r_path[1]\n",
    "    args = (w1, w2, r1, r2, b21, nvec, sigma)\n",
    "    b32_guess = 0\n",
    "    doghnut1 = opt.root(firstdoughnutring, b32_guess, args=args, tol=TPI_tol)\n",
    "    bmat[1, 1] = doghnut1.x \n",
    "    EulErrs[1, 1] = doghnut1.fun\n",
    "    \n",
    "    ## Solve for rest through doughnut method\n",
    "    iteration = 1\n",
    "    #K_path_new = K_path\n",
    "    max_iter = 100\n",
    "    diff = 1000\n",
    "    \n",
    "    while (diff > TPI_tol) and (iteration < max_iter):\n",
    "        #print('iteration :', iteration)\n",
    "        for t in range(T):\n",
    "            \n",
    "            w1, w2, w3, r2, r3 = w_path[t], w_path[t+1], w_path[t+2], \\\n",
    "                r_path[t+1], r_path[t+2]\n",
    "            args = (w1, w2, w3, r2, r3, nvec, sigma)\n",
    "            bvec_guess = (0, 0)\n",
    "            doghnut2 = opt.root(twist_doughnut, bvec_guess, args=args)\n",
    "            b2t1, b2t2 = doghnut2.x\n",
    "            bmat[t+1, 0] = b2t1\n",
    "            bmat[t+2, 1] = b2t2\n",
    "            EulErrs[t] = doghnut2.fun\n",
    "            \n",
    "        ## Maximum absolute values of all EulErrs across entire time path:\n",
    "        maxEulErrs_TPI = np.abs(EulErrs).max(axis = 0)\n",
    "        K_path_updated = bmat[:-1].sum(axis=1)\n",
    "        diff = la.norm(K_path_updated - K_path, 2)\n",
    "        #print('diff :', diff)\n",
    "\n",
    "        ## New transition path\n",
    "        K_path = xi * K_path_updated + (1 - xi) * K_path\n",
    "\n",
    "        ## Update r_path, w_path based on K_path_new\n",
    "        r_path = get_r(K_path, L, r_params)\n",
    "        w_path = get_w(K_path, L, w_params)\n",
    "\n",
    "        iteration += 1\n",
    "\n",
    "    TPI_time = time.clock() - start_time\n",
    "    \n",
    "    Y_params = (alpha, A)\n",
    "    Y_path = get_Y(K_path, L, Y_params)\n",
    "    \n",
    "    b2_path = bmat[:, 0][:-1]\n",
    "    b3_path = bmat[:, 1][:-1]\n",
    "    n1, n2, n3 = nvec\n",
    "    c1_path = n1 * w_path - b2_path  # Consumption in period 1\n",
    "    c2_path = n2 * w_path + (1 + r_path) * b2_path - b3_path  # Consumption in period 2\n",
    "    c3_path = n3 * w_path + (1 + r_path) * b3_path  # Consumption in period 3\n",
    "    c_path = np.array([c1_path, c2_path, c3_path])\n",
    "    C_path = np.sum(c_path, axis = 0)\n",
    "    \n",
    "    RCerrPath = Y_path[:-1] - C_path[:-1] - K_path[1:] + (1 - delta) * K_path[:-1]\n",
    "    \n",
    "    TPI_output = {\n",
    "        'b_path': bmat, \n",
    "        'c_path': c_path, \n",
    "        'w_path': w_path, \n",
    "        'r_path': r_path,\n",
    "        'K_path': K_path, \n",
    "        'Y_path': Y_path, \n",
    "        'C_path': C_path,\n",
    "        'K_bar': K_bar,\n",
    "        'maxEulErrs_TPI': maxEulErrs_TPI, \n",
    "        'RCerrPath': RCerrPath,\n",
    "        'tpi_time': TPI_time\n",
    "    }\n",
    "\n",
    "    if TPI_graph:\n",
    "        get_TPI_graphs(K_path, K_bar, w_path, w_bar, r_path, r_bar)\n",
    "\n",
    "    return TPI_output"
   ]
  },
  {
   "cell_type": "markdown",
   "metadata": {},
   "source": [
    "#### Part a, b"
   ]
  },
  {
   "cell_type": "code",
   "execution_count": 32,
   "metadata": {},
   "outputs": [
    {
     "data": {
      "image/png": "[encoded data removed]",
      "text/plain": [
       "<Figure size 432x288 with 1 Axes>"
      ]
     },
     "metadata": {},
     "output_type": "display_data"
    },
    {
     "data": {
      "image/png": "[encoded data removed]",
      "text/plain": [
       "<Figure size 432x288 with 1 Axes>"
      ]
     },
     "metadata": {},
     "output_type": "display_data"
    },
    {
     "data": {
      "image/png": "[encoded data removed]",
      "text/plain": [
       "<Figure size 432x288 with 1 Axes>"
      ]
     },
     "metadata": {},
     "output_type": "display_data"
    },
    {
     "data": {
      "text/plain": [
       "{'b_path': array([[0.02254154, 0.084552  ],\n",
       "        [0.02931335, 0.07266953],\n",
       "        [0.02734282, 0.07753592],\n",
       "        [0.02826557, 0.07605686],\n",
       "        [0.02800909, 0.07685031],\n",
       "        [0.02816262, 0.07668193],\n",
       "        [0.02813663, 0.07682473],\n",
       "        [0.02816554, 0.0768163 ],\n",
       "        [0.02816563, 0.07684638],\n",
       "        [0.02817209, 0.07685063],\n",
       "        [0.02817342, 0.07685819],\n",
       "        [0.02817513, 0.07686068],\n",
       "        [0.02817578, 0.07686287],\n",
       "        [0.02817629, 0.07686386],\n",
       "        [0.02817654, 0.07686455],\n",
       "        [0.0281767 , 0.07686492],\n",
       "        [0.02817679, 0.07686515],\n",
       "        [0.02817685, 0.07686527],\n",
       "        [0.02817688, 0.07686535],\n",
       "        [0.0281769 , 0.07686539],\n",
       "        [0.02817691, 0.07686542],\n",
       "        [0.02817691, 0.07686543],\n",
       "        [0.02817678, 0.07686542],\n",
       "        [0.02817386, 0.0768648 ],\n",
       "        [0.02810627, 0.07685051],\n",
       "        [0.0265673 , 0.07652067],\n",
       "        [0.        , 0.06894938],\n",
       "        [0.        , 0.        ],\n",
       "        [0.        , 0.        ]]),\n",
       " 'c_path': array([[2.03132998e-01, 1.92531811e-01, 1.96687104e-01, 1.95347721e-01,\n",
       "         1.96006374e-01, 1.95841741e-01, 1.95955046e-01, 1.95941438e-01,\n",
       "         1.95963890e-01, 1.95965431e-01, 1.95970741e-01, 1.95972166e-01,\n",
       "         1.95973638e-01, 1.95974255e-01, 1.95974708e-01, 1.95974938e-01,\n",
       "         1.95975086e-01, 1.95975168e-01, 1.95975217e-01, 1.95975245e-01,\n",
       "         1.95975262e-01, 1.95975272e-01, 1.95975289e-01, 1.95975571e-01,\n",
       "         1.95981990e-01, 1.96116298e-01, 1.93442130e-01, 9.83130223e-05],\n",
       "        [2.05474099e-01, 2.35222480e-01, 2.25485756e-01, 2.29461639e-01,\n",
       "         2.28090200e-01, 2.28697642e-01, 2.28515518e-01, 2.28613704e-01,\n",
       "         2.28593139e-01, 2.28610803e-01, 2.28609823e-01, 2.28613554e-01,\n",
       "         2.28614095e-01, 2.28615036e-01, 2.28615348e-01, 2.28615621e-01,\n",
       "         2.28615747e-01, 2.28615833e-01, 2.28615878e-01, 2.28615907e-01,\n",
       "         2.28615922e-01, 2.28615915e-01, 2.28615534e-01, 2.28606613e-01,\n",
       "         2.28400670e-01, 2.23671026e-01, 1.24492748e-01, 9.83130223e-05],\n",
       "        [2.86513899e-01, 2.57684242e-01, 2.68802558e-01, 2.65112790e-01,\n",
       "         2.66842295e-01, 2.66371450e-01, 2.66660845e-01, 2.66614923e-01,\n",
       "         2.66669991e-01, 2.66670982e-01, 2.66683438e-01, 2.66686195e-01,\n",
       "         2.66689527e-01, 2.66690819e-01, 2.66691824e-01, 2.66692316e-01,\n",
       "         2.66692640e-01, 2.66692816e-01, 2.66692924e-01, 2.66692985e-01,\n",
       "         2.66693022e-01, 2.66693046e-01, 2.66693143e-01, 2.66695101e-01,\n",
       "         2.66740116e-01, 2.67780055e-01, 2.92561279e-01, 1.96626045e-05]]),\n",
       " 'w_path': array([2.25674533e-01, 2.21845163e-01, 2.24029925e-01, 2.23613293e-01,\n",
       "        2.24015460e-01, 2.24004364e-01, 2.24091671e-01, 2.24106974e-01,\n",
       "        2.24129523e-01, 2.24137519e-01, 2.24144165e-01, 2.24147298e-01,\n",
       "        2.24149416e-01, 2.24150545e-01, 2.24151246e-01, 2.24151640e-01,\n",
       "        2.24151877e-01, 2.24152013e-01, 2.24152094e-01, 2.24152140e-01,\n",
       "        2.24152167e-01, 2.24152178e-01, 2.24152072e-01, 2.24149426e-01,\n",
       "        2.24088257e-01, 2.22683597e-01, 1.93442130e-01, 9.83130223e-05]),\n",
       " 'r_path': array([1.85479945e+00, 1.93541480e+00, 1.88893933e+00, 1.89770213e+00,\n",
       "        1.88924280e+00, 1.88947560e+00, 1.88764462e+00, 1.88732390e+00,\n",
       "        1.88685145e+00, 1.88668392e+00, 1.88654471e+00, 1.88647908e+00,\n",
       "        1.88643473e+00, 1.88641109e+00, 1.88639640e+00, 1.88638814e+00,\n",
       "        1.88638318e+00, 1.88638033e+00, 1.88637865e+00, 1.88637767e+00,\n",
       "        1.88637711e+00, 1.88637688e+00, 1.88637910e+00, 1.88643451e+00,\n",
       "        1.88771618e+00, 1.91742506e+00, 2.68201783e+00, 4.35426771e+06]),\n",
       " 'K_path': array([1.07093532e-01, 1.01982880e-01, 1.04878743e-01, 1.04322434e-01,\n",
       "        1.04859395e-01, 1.04844557e-01, 1.04961353e-01, 1.04981833e-01,\n",
       "        1.05012015e-01, 1.05022720e-01, 1.05031618e-01, 1.05035813e-01,\n",
       "        1.05038648e-01, 1.05040159e-01, 1.05041098e-01, 1.05041627e-01,\n",
       "        1.05041943e-01, 1.05042126e-01, 1.05042233e-01, 1.05042296e-01,\n",
       "        1.05042332e-01, 1.05042346e-01, 1.05042204e-01, 1.05038662e-01,\n",
       "        1.04956784e-01, 1.03087980e-01, 6.89493888e-02, 2.67468859e-11]),\n",
       " 'Y_path': array([7.63821496e-01, 7.50860551e-01, 7.58255131e-01, 7.56844992e-01,\n",
       "        7.58206171e-01, 7.58168618e-01, 7.58464118e-01, 7.58515912e-01,\n",
       "        7.58592230e-01, 7.58619295e-01, 7.58641790e-01, 7.58652395e-01,\n",
       "        7.58659561e-01, 7.58663382e-01, 7.58665756e-01, 7.58667091e-01,\n",
       "        7.58667892e-01, 7.58668352e-01, 7.58668624e-01, 7.58668782e-01,\n",
       "        7.58668873e-01, 7.58668910e-01, 7.58668551e-01, 7.58659597e-01,\n",
       "        7.58452563e-01, 7.53698329e-01, 6.54727209e-01, 3.32751768e-04]),\n",
       " 'C_path': array([6.95120996e-01, 6.85438534e-01, 6.90975418e-01, 6.89922150e-01,\n",
       "        6.90938868e-01, 6.90910834e-01, 6.91131409e-01, 6.91170064e-01,\n",
       "        6.91227019e-01, 6.91247216e-01, 6.91264002e-01, 6.91271914e-01,\n",
       "        6.91277260e-01, 6.91280110e-01, 6.91281880e-01, 6.91282876e-01,\n",
       "        6.91283473e-01, 6.91283816e-01, 6.91284019e-01, 6.91284137e-01,\n",
       "        6.91284205e-01, 6.91284233e-01, 6.91283966e-01, 6.91277285e-01,\n",
       "        6.91122775e-01, 6.87567379e-01, 6.10496158e-01, 2.16288649e-04]),\n",
       " 'K_bar': 0.10504237022597253,\n",
       " 'maxEulErrs_TPI': array([6.49132801e-08, 3.99131181e-08]),\n",
       " 'RCerrPath': array([ 5.11065152e-03, -2.89586275e-03,  5.56308755e-04, -5.36961125e-04,\n",
       "         1.48382187e-05, -1.16795227e-04, -2.04789451e-05, -3.01802349e-05,\n",
       "        -1.07023387e-05, -8.89390712e-06, -4.18931562e-06, -2.82796007e-06,\n",
       "        -1.50295537e-06, -9.29421045e-07, -5.17126019e-07, -3.05048366e-07,\n",
       "        -1.69804391e-07, -9.49386242e-08, -4.96145281e-08, -2.36109746e-08,\n",
       "        -2.17377889e-09,  1.53389598e-07,  3.55340644e-06,  8.18882995e-05,\n",
       "         1.86881453e-03,  3.41386020e-02,  6.89494076e-02]),\n",
       " 'tpi_time': 1.1957059999999995}"
      ]
     },
     "execution_count": 32,
     "metadata": {},
     "output_type": "execute_result"
    }
   ],
   "source": [
    "xi = 0.2\n",
    "TPI_tol = 1e-8\n",
    "SS_tol = 1e-8\n",
    "params = (beta, sigma, xi, nvec, L, A, alpha, delta, SS_tol)\n",
    "T = 25\n",
    "TPI_output = get_TPI(params, T, SS_tol, TPI_tol, TPI_graph=True)\n",
    "TPI_output"
   ]
  },
  {
   "cell_type": "code",
   "execution_count": null,
   "metadata": {},
   "outputs": [],
   "source": []
  },
  {
   "cell_type": "markdown",
   "metadata": {},
   "source": [
    "#### Part c (i) Periods it take for economy to get within 0.00001 of SS:"
   ]
  },
  {
   "cell_type": "code",
   "execution_count": 33,
   "metadata": {},
   "outputs": [
    {
     "data": {
      "text/plain": [
       "11"
      ]
     },
     "execution_count": 33,
     "metadata": {},
     "output_type": "execute_result"
    }
   ],
   "source": [
    "K_path = TPI_output['K_path']\n",
    "K_bar = TPI_output['K_bar']\n",
    "Loc = np.where(np.abs(K_path - K_bar) < .00001)[0]\n",
    "Loc[0]"
   ]
  },
  {
   "cell_type": "markdown",
   "metadata": {},
   "source": [
    "#### Part c (ii) Period after which aggregate capital stock is never again farther than 0.00001 away from SS:"
   ]
  },
  {
   "cell_type": "code",
   "execution_count": 34,
   "metadata": {},
   "outputs": [
    {
     "data": {
      "text/plain": [
       "array([11, 12, 13, 14, 15, 16, 17, 18, 19, 20, 21, 22, 23])"
      ]
     },
     "execution_count": 34,
     "metadata": {},
     "output_type": "execute_result"
    }
   ],
   "source": [
    "Loc = np.where(np.abs(K_path - K_bar) < .00001)[0]\n",
    "Loc"
   ]
  },
  {
   "cell_type": "markdown",
   "metadata": {},
   "source": [
    "Therefore, 11"
   ]
  },
  {
   "cell_type": "code",
   "execution_count": null,
   "metadata": {},
   "outputs": [],
   "source": []
  }
 ],
 "metadata": {
  "kernelspec": {
   "display_name": "Python 3",
   "language": "python",
   "name": "python3"
  },
  "language_info": {
   "codemirror_mode": {
    "name": "ipython",
    "version": 3
   },
   "file_extension": ".py",
   "mimetype": "text/x-python",
   "name": "python",
   "nbconvert_exporter": "python",
   "pygments_lexer": "ipython3",
   "version": "3.6.5"
  }
 },
 "nbformat": 4,
 "nbformat_minor": 2
}
