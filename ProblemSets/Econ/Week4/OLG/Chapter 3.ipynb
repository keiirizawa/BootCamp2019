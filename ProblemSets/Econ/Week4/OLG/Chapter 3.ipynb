{
 "cells": [
  {
   "cell_type": "markdown",
   "metadata": {},
   "source": [
    "# Chapter 3: S-period lived Agent Problem with Exogenous labor Supply"
   ]
  },
  {
   "cell_type": "markdown",
   "metadata": {},
   "source": [
    "Code is based on OG-USA."
   ]
  },
  {
   "cell_type": "code",
   "execution_count": 1,
   "metadata": {},
   "outputs": [],
   "source": [
    "import numpy as np\n",
    "import time \n",
    "import scipy.optimize as opt\n",
    "from matplotlib import pyplot as plt\n",
    "import scipy.linalg as la"
   ]
  },
  {
   "cell_type": "code",
   "execution_count": 2,
   "metadata": {},
   "outputs": [],
   "source": [
    "def get_L(nvec):\n",
    "    L = np.sum(nvec)\n",
    "    return L\n",
    "\n",
    "def get_K(bvec):\n",
    "    K = np.sum(bvec)\n",
    "    return K\n",
    "\n",
    "def get_r(K, L, params):\n",
    "    alpha, A, delta = params\n",
    "    r = alpha * A * (L / K) ** (1 - alpha) - delta\n",
    "    return r\n",
    "    \n",
    "def get_w(K, L, params):\n",
    "    alpha, A = params\n",
    "    w = (1 - alpha) * A * (K / L) ** alpha\n",
    "    return w\n",
    "    \n",
    "def get_Y(K, L, params):\n",
    "    alpha, A = params\n",
    "    Y = A * (K ** alpha) * (L ** (1 - alpha))\n",
    "    return Y\n",
    "\n",
    "def get_C(cvec):\n",
    "    C = np.sum(cvec)\n",
    "    return C"
   ]
  },
  {
   "cell_type": "code",
   "execution_count": 6,
   "metadata": {},
   "outputs": [],
   "source": [
    "def get_cons(bvec, args):  \n",
    "    '''\n",
    "    bvec: savings of remaining periods of life\n",
    "    '''\n",
    "    nvec, r, w = args\n",
    "    bs = np.append(0.0, bvec)  # because inherit 0 savings when born\n",
    "    bsp = np.append(bvec, 0.0)  # because leave 0 savings before end of life\n",
    "    cvec = (1 + r) * bs + w * nvec - bsp\n",
    "    return cvec"
   ]
  },
  {
   "cell_type": "code",
   "execution_count": 7,
   "metadata": {},
   "outputs": [],
   "source": [
    "def get_MU_c(cvec, sigma, graph=True):\n",
    "\n",
    "    MU_c = cvec**(-sigma)\n",
    "    return MU_c"
   ]
  },
  {
   "cell_type": "code",
   "execution_count": 8,
   "metadata": {},
   "outputs": [],
   "source": [
    "def get_b_EE(cvec, args):\n",
    "    \n",
    "    beta, sigma, r = args\n",
    "    mu_c = get_MU_c(cvec[:-1], sigma)\n",
    "    mu_cp = get_MU_c(cvec[1:], sigma)\n",
    "    \n",
    "    EE_b_errs = (beta * (1 + r) * mu_cp) - mu_c\n",
    "    return EE_b_errs"
   ]
  },
  {
   "cell_type": "code",
   "execution_count": 9,
   "metadata": {},
   "outputs": [],
   "source": [
    "def get_SS_EE(bvec, *args):\n",
    "    \n",
    "    nvec, beta, sigma, A, alpha, delta = args\n",
    "    K = get_K(bvec)\n",
    "    L = get_L(nvec)\n",
    "    r_params = (alpha, A, delta)\n",
    "    r = get_r(K, L, r_params)\n",
    "    w_params = (alpha, A)\n",
    "    w = get_w(K, L, w_params)\n",
    "    c_args = (nvec, r, w)\n",
    "    cvec = get_cons(bvec, c_args)\n",
    "    b_args = (beta, sigma, r)\n",
    "    EE = get_b_EE(cvec, b_args)\n",
    "    \n",
    "    return EE"
   ]
  },
  {
   "cell_type": "code",
   "execution_count": 10,
   "metadata": {},
   "outputs": [],
   "source": [
    "def get_SS_graphs(c_ss, b_ss):\n",
    "    \n",
    "    S = len(c_ss)\n",
    "    b_ss2 = np.append(0.0, b_ss)\n",
    "    age_pers = np.arange(1, S+1)\n",
    "    \n",
    "    plt.plot(age_pers, c_ss, marker='D', label='Consumption')\n",
    "    plt.grid(b=True, which='major', color='0.65', linestyle='-')\n",
    "    plt.xlabel(r'Age $s$')\n",
    "    plt.ylabel(r'Units of consumption')\n",
    "    plt.xlim((0, S + 1))\n",
    "    plt.legend(loc='upper left')\n",
    "    plt.show()\n",
    "    \n",
    "    plt.plot(age_pers, b_ss2, marker='D', label='Savings')\n",
    "    plt.grid(b=True, which='major', color='0.65', linestyle='-')\n",
    "    plt.xlabel(r'Age $s$')\n",
    "    plt.ylabel(r'Units of consumption')\n",
    "    plt.xlim((0, S + 1))\n",
    "    plt.legend(loc='upper left')\n",
    "    plt.show()"
   ]
  },
  {
   "cell_type": "code",
   "execution_count": 11,
   "metadata": {},
   "outputs": [],
   "source": [
    "def get_SS(params, bvec_guess, SS_graphs):\n",
    "    \n",
    "    beta, sigma, nvec, L, A, alpha, delta, SS_tol = params\n",
    "    \n",
    "    start_time = time.clock()\n",
    "    \n",
    "    EE_args = (nvec, beta, sigma, A, alpha, delta)\n",
    "    results_EE = opt.root(get_SS_EE, bvec_guess, args=EE_args, tol=SS_tol)\n",
    "    b_ss = results_EE.x\n",
    "    EulErr_ss = results_EE.fun\n",
    "    \n",
    "    K_ss = get_K(b_ss)\n",
    "    r_params = (alpha, A, delta)\n",
    "    r_ss = get_r(K_ss, L, r_params)\n",
    "    w_params = (alpha, A)\n",
    "    w_ss = get_w(K_ss, L, w_params)\n",
    "    c_args = (nvec, r_ss, w_ss)\n",
    "    c_ss = get_cons(b_ss, c_args)\n",
    "    \n",
    "    Y_params = (alpha, A)\n",
    "    Y_ss = get_Y(K_ss, L, Y_params)\n",
    "    C_ss = get_C(c_ss)\n",
    "    \n",
    "    RCerr_ss = Y_ss - C_ss - delta * K_ss\n",
    "    \n",
    "    ss_time = time.clock() - start_time\n",
    "    \n",
    "    ss_output = {\n",
    "        'b_ss': b_ss, \n",
    "        'c_ss': c_ss, \n",
    "        'w_ss': w_ss, \n",
    "        'r_ss': r_ss,\n",
    "        'K_ss': K_ss, \n",
    "        'Y_ss': Y_ss, \n",
    "        'C_ss': C_ss,\n",
    "        'EulErr_ss': EulErr_ss,\n",
    "        'RCerr_ss': RCerr_ss,\n",
    "        'ss_time': ss_time\n",
    "    }\n",
    "    \n",
    "    if SS_graphs: \n",
    "        get_SS_graphs(c_ss, b_ss)\n",
    "        \n",
    "    return ss_output"
   ]
  },
  {
   "cell_type": "markdown",
   "metadata": {},
   "source": [
    "### Part a, b"
   ]
  },
  {
   "cell_type": "code",
   "execution_count": 12,
   "metadata": {},
   "outputs": [],
   "source": [
    "# parameters for the model\n",
    "S = 80\n",
    "beta = 0.96 ** (80 / S)\n",
    "delta = 1 - (1 - 0.05) ** (80 / S)\n",
    "sigma = 3\n",
    "A = 1\n",
    "alpha = 0.35\n",
    "\n",
    "s = np.round(2 * S / 3)\n",
    "nvec1 = np.ones(int(s)) * 1\n",
    "nvec2 = np.ones(int(S - s)) * 0.2\n",
    "nvec = np.concatenate((nvec1, nvec2), axis=None)\n",
    "L = np.sum(nvec)\n",
    "\n",
    "bvec_guess = np.ones(S - 1) * 0.003\n",
    "SS_tol = 1e-8\n",
    "SS_graphs=True"
   ]
  },
  {
   "cell_type": "code",
   "execution_count": 13,
   "metadata": {},
   "outputs": [
    {
     "data": {
      "image/png": "[encoded data removed]",
      "text/plain": [
       "<Figure size 432x288 with 1 Axes>"
      ]
     },
     "metadata": {},
     "output_type": "display_data"
    },
    {
     "data": {
      "image/png": "[encoded data removed]",
      "text/plain": [
       "<Figure size 432x288 with 1 Axes>"
      ]
     },
     "metadata": {},
     "output_type": "display_data"
    },
    {
     "data": {
      "text/plain": [
       "{'b_ss': array([ 0.06051918,  0.12544731,  0.19494149,  0.26916451,  0.34828513,\n",
       "         0.43247825,  0.52192516,  0.61681377,  0.71733883,  0.82370221,\n",
       "         0.93611315,  1.05478851,  1.17995308,  1.31183984,  1.45069027,\n",
       "         1.59675466,  1.75029246,  1.91157252,  2.08087357,  2.25848446,\n",
       "         2.44470461,  2.63984433,  2.84422528,  3.05818082,  3.28205651,\n",
       "         3.51621049,  3.76101396,  4.01685167,  4.2841224 ,  4.56323948,\n",
       "         4.85463131,  5.15874192,  5.47603153,  5.80697714,  6.15207316,\n",
       "         6.51183203,  6.88678486,  7.27748216,  7.68449449,  8.10841324,\n",
       "         8.54985135,  9.00944411,  9.48785001,  9.98575151, 10.503856  ,\n",
       "        11.04289663, 11.6036333 , 12.18685364, 12.79337397, 13.4240404 ,\n",
       "        14.07972988, 14.76135136, 15.46984691, 15.1021463 , 14.72305542,\n",
       "        14.33215565, 13.92901307, 13.51317797, 13.08418424, 12.64154879,\n",
       "        12.1847709 , 11.71333163, 11.2266931 , 10.72429784, 10.20556805,\n",
       "         9.66990488,  9.11668765,  8.54527305,  7.95499432,  7.3451604 ,\n",
       "         6.71505504,  6.06393589,  5.39103352,  4.69555047,  3.9766602 ,\n",
       "         3.23350603,  2.46520008,  1.67082208,  0.84941825]),\n",
       " 'c_ss': array([1.31953917, 1.31733672, 1.31513791, 1.31294277, 1.31075129,\n",
       "        1.30856348, 1.30637931, 1.30419879, 1.30202191, 1.29984867,\n",
       "        1.29767905, 1.29551305, 1.29335067, 1.2911919 , 1.28903673,\n",
       "        1.28688516, 1.28473717, 1.28259278, 1.28045196, 1.27831472,\n",
       "        1.27618104, 1.27405093, 1.27192437, 1.26980136, 1.26768189,\n",
       "        1.26556596, 1.26345357, 1.2613447 , 1.25923935, 1.25713751,\n",
       "        1.25503918, 1.25294436, 1.25085303, 1.24876519, 1.24668083,\n",
       "        1.24459996, 1.24252256, 1.24044862, 1.23837815, 1.23631114,\n",
       "        1.23424757, 1.23218745, 1.23013076, 1.22807751, 1.22602769,\n",
       "        1.22398129, 1.2219383 , 1.21989872, 1.21786255, 1.21582978,\n",
       "        1.2138004 , 1.21177441, 1.20975179, 1.20773256, 1.20571669,\n",
       "        1.20370419, 1.20169505, 1.19968926, 1.19768682, 1.19568773,\n",
       "        1.19369197, 1.19169954, 1.18971043, 1.18772464, 1.18574218,\n",
       "        1.18376302, 1.18178716, 1.1798146 , 1.17784534, 1.17587936,\n",
       "        1.17391666, 1.17195724, 1.17000108, 1.16804819, 1.16609858,\n",
       "        1.16415221, 1.16220909, 1.16026921, 1.15833256, 1.15639914]),\n",
       " 'w_ss': 1.3800583551913437,\n",
       " 'r_ss': 0.03645933076653138,\n",
       " 'K_ss': 501.94151364882293,\n",
       " 'Y_ss': 123.99293529719151,\n",
       " 'C_ss': 98.8958596147503,\n",
       " 'EulErr_ss': array([-3.07275378e-08,  1.56443419e-09, -4.21896351e-10, -2.65735267e-10,\n",
       "        -2.51789423e-10,  6.15311690e-11, -3.20019011e-11, -1.72915071e-10,\n",
       "        -2.87694979e-10, -3.70780906e-10, -3.21213778e-10,  1.05395526e-10,\n",
       "         4.06563061e-10, -2.93804348e-09, -4.42600750e-09,  1.15613271e-08,\n",
       "        -1.28342677e-08,  4.87645380e-09,  2.91254088e-09,  1.42586165e-10,\n",
       "        -9.42635414e-11, -9.55479029e-11, -5.79606363e-11, -3.80581677e-11,\n",
       "        -4.15181223e-11, -6.25960950e-11, -9.36055122e-11, -1.27291289e-10,\n",
       "        -1.62272862e-10, -1.91059835e-10, -2.21903163e-10, -2.38549736e-10,\n",
       "        -2.55132249e-10, -2.59278488e-10, -2.42892595e-10, -2.25379049e-10,\n",
       "        -1.67552083e-10, -1.09360299e-10, -1.85982341e-11,  5.85516080e-11,\n",
       "         1.49728119e-10,  1.97689420e-10,  2.35127140e-10,  2.26241581e-10,\n",
       "         2.07162842e-10,  1.69139702e-10,  1.28156041e-10,  8.90304497e-11,\n",
       "         5.93202154e-11,  4.21643831e-11, -6.12356832e-11,  1.06595954e-10,\n",
       "         4.95338282e-09, -3.84636434e-09, -1.36139078e-09,  4.22168966e-10,\n",
       "         4.03743039e-10,  2.33674258e-09,  7.22269689e-10, -6.04759454e-09,\n",
       "        -1.71351811e-09,  9.01066066e-09,  4.14628576e-09, -8.98416308e-09,\n",
       "        -4.90928920e-09,  7.65448038e-09,  3.52658369e-09, -4.40925763e-09,\n",
       "        -1.79464488e-09, -3.16514037e-10, -2.37059039e-10,  1.20148433e-08,\n",
       "         8.56871951e-09, -1.82838983e-08, -1.24309717e-08, -3.33142447e-09,\n",
       "        -4.46978909e-09,  1.87337443e-08,  8.90603691e-09]),\n",
       " 'RCerr_ss': 4.618527782440651e-14,\n",
       " 'ss_time': 0.03489999999999993}"
      ]
     },
     "execution_count": 13,
     "metadata": {},
     "output_type": "execute_result"
    }
   ],
   "source": [
    "params = (beta, sigma, nvec, L, A, alpha, delta, SS_tol)\n",
    "get_SS(params, bvec_guess, SS_graphs)"
   ]
  },
  {
   "cell_type": "markdown",
   "metadata": {},
   "source": [
    "### Part c"
   ]
  },
  {
   "cell_type": "code",
   "execution_count": 14,
   "metadata": {},
   "outputs": [],
   "source": [
    "# parameters for the model\n",
    "S = 80\n",
    "beta = 0.96 ** (80 / S)\n",
    "delta = 1 - (1 - 0.05) ** (80 / S)\n",
    "sigma = 3\n",
    "A = 1\n",
    "alpha = 0.35\n",
    "\n",
    "s = np.round(S / 2)\n",
    "nvec1 = np.ones(int(s)) * 1\n",
    "nvec2 = np.ones(int(S - s)) * 0.2\n",
    "nvec = np.concatenate((nvec1, nvec2), axis=None)\n",
    "L = np.sum(nvec)\n",
    "\n",
    "bvec_guess = np.ones(S - 1) * 0.003\n",
    "SS_tol = 1e-8\n",
    "SS_graphs=True"
   ]
  },
  {
   "cell_type": "code",
   "execution_count": 15,
   "metadata": {},
   "outputs": [
    {
     "data": {
      "image/png": "[encoded data removed]",
      "text/plain": [
       "<Figure size 432x288 with 1 Axes>"
      ]
     },
     "metadata": {},
     "output_type": "display_data"
    },
    {
     "data": {
      "image/png": "[encoded data removed]",
      "text/plain": [
       "<Figure size 432x288 with 1 Axes>"
      ]
     },
     "metadata": {},
     "output_type": "display_data"
    },
    {
     "data": {
      "text/plain": [
       "{'b_ss': array([ 0.12750186,  0.26877057,  0.42394716,  0.59317578,  0.77660375,\n",
       "         0.97438164,  1.18666327,  1.41360578,  1.65536971,  1.91211899,\n",
       "         2.18402107,  2.47124688,  2.77397098,  3.09237154,  3.42663045,\n",
       "         3.77693334,  4.14346966,  4.52643272,  4.92601978,  5.34243208,\n",
       "         5.77587492,  6.22655773,  6.69469412,  7.18050193,  7.68420336,\n",
       "         8.20602495,  8.74619773,  9.30495725,  9.88254364, 10.47920173,\n",
       "        11.09518106, 11.73073604, 12.38612593, 13.061615  , 13.75747256,\n",
       "        14.47397307, 15.2113962 , 15.97002694, 16.75015566, 17.55207821,\n",
       "        17.10917075, 16.66717719, 16.22604588, 15.78572483, 15.3461617 ,\n",
       "        14.9073038 , 14.46909804, 14.03149098, 13.59442876, 13.15785715,\n",
       "        12.72172146, 12.28596662, 11.8505371 , 11.41537693, 10.98042966,\n",
       "        10.54563841, 10.11094578,  9.67629388,  9.24162434,  8.80687824,\n",
       "         8.37199614,  7.93691806,  7.50158346,  7.06593121,  6.62989962,\n",
       "         6.1934264 ,  5.75644864,  5.3189028 ,  4.88072472,  4.44184957,\n",
       "         4.00221184,  3.56174537,  3.12038329,  2.67805799,  2.23470117,\n",
       "         1.79024375,  1.34461593,  0.89774709,  0.44956585]),\n",
       " 'c_ss': array([1.45615469, 1.44455041, 1.4330386 , 1.42161854, 1.41028948,\n",
       "        1.3990507 , 1.38790149, 1.37684112, 1.3658689 , 1.35498412,\n",
       "        1.34418607, 1.33347408, 1.32284746, 1.31230552, 1.30184759,\n",
       "        1.291473  , 1.28118109, 1.27097119, 1.26084266, 1.25079484,\n",
       "        1.2408271 , 1.23093879, 1.22112928, 1.21139795, 1.20174416,\n",
       "        1.19216731, 1.18266677, 1.17324195, 1.16389224, 1.15461703,\n",
       "        1.14541574, 1.13628778, 1.12723255, 1.11824949, 1.10933802,\n",
       "        1.10049757, 1.09172756, 1.08302744, 1.07439666, 1.06583466,\n",
       "        1.05734088, 1.0489148 , 1.04055586, 1.03226354, 1.0240373 ,\n",
       "        1.01587662, 1.00778097, 0.99974983, 0.9917827 , 0.98387905,\n",
       "        0.9760384 , 0.96826022, 0.96054403, 0.95288933, 0.94529564,\n",
       "        0.93776246, 0.93028931, 0.92287571, 0.9155212 , 0.90822529,\n",
       "        0.90098753, 0.89380745, 0.88668458, 0.87961848, 0.87260869,\n",
       "        0.86565476, 0.85875624, 0.8519127 , 0.8451237 , 0.8383888 ,\n",
       "        0.83170758, 0.82507959, 0.81850443, 0.81198166, 0.80551088,\n",
       "        0.79909166, 0.79272359, 0.78640628, 0.78013931, 0.77392228]),\n",
       " 'w_ss': 1.5836565520538708,\n",
       " 'r_ss': 0.016961075022894276,\n",
       " 'K_ss': 611.2720094451773,\n",
       " 'Y_ss': 116.9469453824397,\n",
       " 'C_ss': 86.38334491018081,\n",
       " 'EulErr_ss': array([-1.37230322e-09,  1.61051950e-10,  1.78274118e-10, -3.53595875e-10,\n",
       "         3.05039272e-10,  1.01444186e-10, -1.50704171e-10, -8.18938251e-11,\n",
       "        -6.25852703e-11,  3.36228267e-11,  5.20911092e-12,  1.85543803e-11,\n",
       "         1.08046350e-11,  2.10137463e-12, -4.27791136e-12, -5.93092242e-12,\n",
       "        -6.51761978e-12, -1.18077215e-11, -1.70416459e-11,  7.34891037e-11,\n",
       "         2.02447281e-10,  5.82629500e-11, -1.40640277e-10, -1.72820536e-10,\n",
       "        -1.34283917e-10, -8.48633386e-11, -5.48615597e-11, -5.18242116e-11,\n",
       "        -3.96430666e-11, -2.86723978e-11, -3.59787755e-11, -5.47607515e-11,\n",
       "        -2.85798052e-11,  1.38815515e-10, -1.67501346e-10, -9.19486265e-10,\n",
       "         7.06095626e-10,  1.73385473e-09, -1.86036797e-09,  2.00390249e-09,\n",
       "        -9.41922762e-10, -1.65158998e-11, -1.40691903e-11, -1.65900627e-11,\n",
       "        -1.30291777e-10, -1.81916926e-10,  1.88989602e-10,  6.66577904e-10,\n",
       "         5.98849859e-10, -6.09443607e-11, -7.31549488e-10, -8.93988661e-10,\n",
       "        -5.65890890e-10, -1.38616230e-10,  4.65656402e-11, -1.52216018e-11,\n",
       "        -6.41269260e-11,  1.39617429e-10,  5.78090464e-10,  9.59506696e-10,\n",
       "         9.59356372e-10,  4.80361306e-10, -2.29161357e-10, -7.46309459e-10,\n",
       "        -7.97903521e-10, -4.54538851e-10, -3.33739703e-11,  1.94658734e-10,\n",
       "         1.99077865e-10,  1.18870691e-10,  7.22975013e-11,  7.10436154e-11,\n",
       "         8.88631391e-11,  1.06803899e-10,  1.28920652e-10,  1.58434821e-10,\n",
       "         1.95432115e-10,  3.37744499e-10, -1.16945924e-08]),\n",
       " 'RCerr_ss': -1.0658141036401503e-14,\n",
       " 'ss_time': 0.053549999999999986}"
      ]
     },
     "execution_count": 15,
     "metadata": {},
     "output_type": "execute_result"
    }
   ],
   "source": [
    "params = (beta, sigma, nvec, L, A, alpha, delta, SS_tol)\n",
    "get_SS(params, bvec_guess, SS_graphs)"
   ]
  },
  {
   "cell_type": "markdown",
   "metadata": {},
   "source": [
    "### Comment"
   ]
  },
  {
   "cell_type": "markdown",
   "metadata": {},
   "source": [
    "- Affect on steady state consumption: Households retire sooner so consumption is lower for older age groups. \n",
    "\n",
    "- Affect on steady state savings: Shifts to the left when households retire sooner because they need to save earlier to maintain sustainable future consumption (consumption smoothening).\n",
    "\n",
    "- Affect on steady state wage: Overall workers in economy decline when housholds retire sooner. Therefore, there is less supply of labor making the steady state wage to increase for market clearance. \n",
    "\n",
    "- Affect on steady state interest rate: Since households are more willing to save (save earlier) there is more supply of savings and thus interest rate decreases. "
   ]
  },
  {
   "cell_type": "code",
   "execution_count": null,
   "metadata": {},
   "outputs": [],
   "source": []
  }
 ],
 "metadata": {
  "kernelspec": {
   "display_name": "Python 3",
   "language": "python",
   "name": "python3"
  },
  "language_info": {
   "codemirror_mode": {
    "name": "ipython",
    "version": 3
   },
   "file_extension": ".py",
   "mimetype": "text/x-python",
   "name": "python",
   "nbconvert_exporter": "python",
   "pygments_lexer": "ipython3",
   "version": "3.6.5"
  }
 },
 "nbformat": 4,
 "nbformat_minor": 2
}
