{
 "cells": [
  {
   "cell_type": "markdown",
   "metadata": {},
   "source": [
    "# DSGE Models"
   ]
  },
  {
   "cell_type": "code",
   "execution_count": 121,
   "metadata": {},
   "outputs": [],
   "source": [
    "import numpy as np\n",
    "import pandas as pd\n",
    "import scipy.optimize as opt\n",
    "import scipy.stats"
   ]
  },
  {
   "cell_type": "markdown",
   "metadata": {},
   "source": [
    "## Exercise 5"
   ]
  },
  {
   "cell_type": "markdown",
   "metadata": {},
   "source": [
    "### Numerical Solution"
   ]
  },
  {
   "cell_type": "code",
   "execution_count": 107,
   "metadata": {},
   "outputs": [],
   "source": [
    "gamma = 2.5\n",
    "beta = 0.98\n",
    "alpha = 0.4\n",
    "delta = 0.1\n",
    "tau = 0.05 "
   ]
  },
  {
   "cell_type": "code",
   "execution_count": 78,
   "metadata": {},
   "outputs": [],
   "source": [
    "def objective(params, args):\n",
    "    \n",
    "    c, r, k, w, T = params\n",
    "    gamma, beta, alpha, delta, tau = args\n",
    "\n",
    "    f1 = c - ( (1 - tau) * (w + (r - delta) * k) + T)\n",
    "    f2 = T - ( tau * (w + (r - delta) * k) )\n",
    "    f3 = 1 - ( beta * ( (r - delta) * (1 - tau) + 1 ) )\n",
    "    f4 = r - alpha * k ** (alpha - 1) \n",
    "    f5 = w - (1 - alpha) * k ** alpha \n",
    "    \n",
    "    return np.array([f1,f2,f3,f4,f5])"
   ]
  },
  {
   "cell_type": "code",
   "execution_count": 79,
   "metadata": {},
   "outputs": [
    {
     "name": "stdout",
     "output_type": "stream",
     "text": [
      "Numerical Solution\n",
      "cbar =  1.4845048188489622\n",
      "rbar =  0.12148227712137484\n",
      "kbar =  7.287497950683184\n",
      "wbar =  1.3279527683506458\n",
      "Tbar =  0.07422524094244812\n",
      "ybar =  2.213254613917652\n",
      "ibar =  0.7287497950683184\n"
     ]
    }
   ],
   "source": [
    "params_init = np.array([1., 1., 1., 1., 1.])\n",
    "args_init = np.array([gamma, beta, alpha, delta, tau])\n",
    "cbar, rbar, kbar, wbar, Tbar = opt.fsolve(objective, params_init, args=args_init)\n",
    "print(\"Numerical Solution\")\n",
    "print('kbar = ', kbar)\n",
    "print('cbar = ', cbar)\n",
    "print('rbar = ', rbar)\n",
    "print('wbar = ', wbar)\n",
    "print('Tbar = ', Tbar)\n",
    "\n",
    "lbar = 1\n",
    "ybar = kbar ** alpha * (lbar) ** (1 - alpha)\n",
    "ibar = kbar - (1 - delta) * kbar\n",
    "print('ybar = ', ybar)\n",
    "print('ibar = ', ibar)"
   ]
  },
  {
   "cell_type": "markdown",
   "metadata": {},
   "source": [
    "### Algebraic Solution "
   ]
  },
  {
   "cell_type": "code",
   "execution_count": 80,
   "metadata": {},
   "outputs": [
    {
     "name": "stdout",
     "output_type": "stream",
     "text": [
      "Algebraic Solution\n",
      "cbar =  0.10467834146640707\n",
      "rbar =  0.1214822771213749\n",
      "kbar =  7.287497950692988\n",
      "wbar =  1.3279527683513057\n",
      "Tbar =  0.0742252409424772\n",
      "Output (ybar) =  2.213254613918843\n",
      "Investment (ibar) =  0.7287497950692989\n"
     ]
    }
   ],
   "source": [
    "rbar = (1 - beta) / (beta * (1 - tau)) + delta\n",
    "kbar = (rbar / alpha) ** (1/ (alpha -1) )\n",
    "wbar = (1 - alpha) * kbar ** alpha\n",
    "Tbar = tau * (wbar + (rbar - delta) * kbar) \n",
    "cbar = (1 - tau) * (wbar + (rbar - delta) * kbar) * Tbar\n",
    "print(\"Algebraic Solution\")\n",
    "print('kbar = ', kbar)\n",
    "print('cbar = ', cbar)\n",
    "print('rbar = ', rbar)\n",
    "print('wbar = ', wbar)\n",
    "print('Tbar = ', Tbar)\n",
    "\n",
    "lbar = 1\n",
    "ybar = kbar ** alpha * (lbar) ** (1 - alpha)\n",
    "ibar = kbar - (1 - delta) * kbar\n",
    "print('Output (ybar) = ', ybar)\n",
    "print('Investment (ibar) = ', ibar)"
   ]
  },
  {
   "cell_type": "code",
   "execution_count": null,
   "metadata": {},
   "outputs": [],
   "source": []
  },
  {
   "cell_type": "markdown",
   "metadata": {},
   "source": [
    "## Exercise 6"
   ]
  },
  {
   "cell_type": "code",
   "execution_count": 140,
   "metadata": {},
   "outputs": [],
   "source": [
    "gamma = 2.5\n",
    "psi = 1.5\n",
    "beta = 0.98\n",
    "alpha = 0.4\n",
    "a = 0.5\n",
    "delta = 0.1\n",
    "tau = 0.05 \n",
    "zbar = 0"
   ]
  },
  {
   "cell_type": "code",
   "execution_count": 109,
   "metadata": {},
   "outputs": [],
   "source": [
    "def objective(params, args):\n",
    "\n",
    "    c, r, k, l, w, T = params\n",
    "    gamma, psi, beta, alpha, a, delta, tau = args\n",
    "\n",
    "    f1 = c - ( (1 - tau) * (w * l + (r - delta) * k) + T)\n",
    "    f2 = 1 - ( beta * ( (r - delta) * (1 - tau) + 1 ) )\n",
    "    f3 = a / (1 - l) ** psi - c ** (-gamma) * w * (1 - tau)\n",
    "    f4 = r - alpha * (l / k) ** (1 - alpha)\n",
    "    f5 = w - (1 - alpha) * (k / l) ** alpha\n",
    "    f6 = T - tau * (w * l + (r - delta) * k)\n",
    "    \n",
    "    return np.array([f1,f2,f3,f4,f5,f6])"
   ]
  },
  {
   "cell_type": "code",
   "execution_count": 110,
   "metadata": {},
   "outputs": [
    {
     "name": "stdout",
     "output_type": "stream",
     "text": [
      "Numerical Solution\n",
      "cbar =  0.8607032061550596\n",
      "rbar =  0.12148227712137483\n",
      "kbar =  4.225229026768329\n",
      "lbar =  0.5797914531666389\n",
      "wbar =  1.3279527683501966\n",
      "Tbar =  0.043035160307752986\n",
      "Output (ybar) =  1.2832261088302117\n",
      "Investment (ibar) =  0.4225229026768327\n"
     ]
    }
   ],
   "source": [
    "params_init = np.array([1., 1., 1., .5, 1., 1.])\n",
    "args_init = np.array([gamma, psi, beta, alpha, a, delta, tau])\n",
    "cbar, rbar, kbar, lbar, wbar, Tbar = opt.fsolve(objective, params_init, args=args_init)\n",
    "print(\"Numerical Solution\")\n",
    "print('cbar = ', cbar)\n",
    "print('rbar = ', rbar)\n",
    "print('kbar = ', kbar)\n",
    "print('lbar = ', lbar)\n",
    "print('wbar = ', wbar)\n",
    "print('Tbar = ', Tbar)\n",
    "\n",
    "ybar = kbar ** alpha * (lbar) ** (1 - alpha)\n",
    "ibar = kbar - (1 - delta) * kbar\n",
    "print('Output (ybar) = ', ybar)\n",
    "print('Investment (ibar) = ', ibar)"
   ]
  },
  {
   "cell_type": "code",
   "execution_count": null,
   "metadata": {},
   "outputs": [],
   "source": []
  },
  {
   "cell_type": "markdown",
   "metadata": {},
   "source": [
    "## Exercise 7"
   ]
  },
  {
   "cell_type": "code",
   "execution_count": 141,
   "metadata": {},
   "outputs": [],
   "source": [
    "def objective(params, args):\n",
    "\n",
    "    c, r, k, l, w, T = params\n",
    "    gamma, psi, beta, alpha, a, delta, tau, z = args\n",
    "\n",
    "    f1 = c - ( (1 - tau) * (w * l + (r - delta) * k) + T)\n",
    "    f2 = 1 - ( beta * ( (r - delta) * (1 - tau) + 1 ) )\n",
    "    f3 = a / (1 - l) ** psi - c ** (-gamma) * w * (1 - tau)\n",
    "    f4 = r - alpha * (l * np.exp(z) / k) ** (1 - alpha)\n",
    "    f5 = w - (1 - alpha) * np.exp(z) * ( k / (l * np.exp(z)) ) ** alpha\n",
    "    f6 = T - tau * (w * l + (r - delta) * k)\n",
    "    \n",
    "    return np.array([f1,f2,f3,f4,f5,f6])"
   ]
  },
  {
   "cell_type": "code",
   "execution_count": 146,
   "metadata": {},
   "outputs": [],
   "source": [
    "def solve_ss_vals(args):\n",
    "    params_init = np.array([1., 1., 1., .5, 1., 1.])\n",
    "    cbar, rbar, kbar, lbar, wbar, Tbar = opt.fsolve(objective, params_init, args=args)\n",
    "    ybar = kbar ** alpha * (lbar) ** (1 - alpha)\n",
    "    ibar = kbar - (1 - delta) * kbar\n",
    "    return np.array([kbar, lbar, cbar, rbar, wbar, Tbar, ybar, ibar])"
   ]
  },
  {
   "cell_type": "code",
   "execution_count": 147,
   "metadata": {},
   "outputs": [],
   "source": [
    "def derivative(f_h1, f_h2, epsilon):\n",
    "    '''\n",
    "    f_h1 = f(x0 + h)\n",
    "    f_h2 = f(x0 - h)\n",
    "    '''\n",
    "    return (f_h1 - f_h2) / (2 * epsilon)"
   ]
  },
  {
   "cell_type": "code",
   "execution_count": 156,
   "metadata": {},
   "outputs": [],
   "source": [
    "deriv = np.empty((8, 8))\n",
    "\n",
    "args_h1 = np.array([gamma, psi, beta, alpha, a, delta, tau, zbar])\n",
    "args_h2 = np.array([gamma, psi, beta, alpha, a, delta, tau, zbar])\n",
    "\n",
    "# choose small epsilon\n",
    "epsilon = 1e-8\n",
    "for i in range(len(args_h1)):\n",
    "    args_h1[i] += epsilon\n",
    "    args_h2[i] -= epsilon\n",
    "    deriv[:, i] = derivative(solve_ss_vals(args_h1), solve_ss_vals(args_h2), epsilon)\n",
    "    args_h1[i] -= epsilon\n",
    "    args_h2[i] += epsilon"
   ]
  },
  {
   "cell_type": "code",
   "execution_count": 155,
   "metadata": {},
   "outputs": [
    {
     "data": {
      "text/html": [
       "<div>\n",
       "<style scoped>\n",
       "    .dataframe tbody tr th:only-of-type {\n",
       "        vertical-align: middle;\n",
       "    }\n",
       "\n",
       "    .dataframe tbody tr th {\n",
       "        vertical-align: top;\n",
       "    }\n",
       "\n",
       "    .dataframe thead th {\n",
       "        text-align: right;\n",
       "    }\n",
       "</style>\n",
       "<table border=\"1\" class=\"dataframe\">\n",
       "  <thead>\n",
       "    <tr style=\"text-align: right;\">\n",
       "      <th></th>\n",
       "      <th>α</th>\n",
       "      <th>β</th>\n",
       "      <th>γ</th>\n",
       "      <th>δ</th>\n",
       "      <th>ξ</th>\n",
       "      <th>τ</th>\n",
       "      <th>a</th>\n",
       "      <th>$\\bar{z}$</th>\n",
       "    </tr>\n",
       "  </thead>\n",
       "  <tbody>\n",
       "    <tr>\n",
       "      <th>kss</th>\n",
       "      <td>0.139</td>\n",
       "      <td>-0.802</td>\n",
       "      <td>65.430</td>\n",
       "      <td>25.985</td>\n",
       "      <td>-1.849</td>\n",
       "      <td>-48.350</td>\n",
       "      <td>-2.323</td>\n",
       "      <td>0.000000e+00</td>\n",
       "    </tr>\n",
       "    <tr>\n",
       "      <th>lss</th>\n",
       "      <td>0.019</td>\n",
       "      <td>-0.110</td>\n",
       "      <td>0.260</td>\n",
       "      <td>-0.769</td>\n",
       "      <td>-0.254</td>\n",
       "      <td>1.320</td>\n",
       "      <td>-0.139</td>\n",
       "      <td>7.241602e+169</td>\n",
       "    </tr>\n",
       "    <tr>\n",
       "      <th>css</th>\n",
       "      <td>0.028</td>\n",
       "      <td>-0.163</td>\n",
       "      <td>1.751</td>\n",
       "      <td>2.085</td>\n",
       "      <td>-0.377</td>\n",
       "      <td>-3.511</td>\n",
       "      <td>-0.234</td>\n",
       "      <td>3.105036e+231</td>\n",
       "    </tr>\n",
       "    <tr>\n",
       "      <th>rss</th>\n",
       "      <td>0.000</td>\n",
       "      <td>-0.000</td>\n",
       "      <td>-1.096</td>\n",
       "      <td>0.000</td>\n",
       "      <td>0.000</td>\n",
       "      <td>1.000</td>\n",
       "      <td>0.023</td>\n",
       "      <td>0.000000e+00</td>\n",
       "    </tr>\n",
       "    <tr>\n",
       "      <th>wss</th>\n",
       "      <td>0.000</td>\n",
       "      <td>0.000</td>\n",
       "      <td>7.987</td>\n",
       "      <td>4.396</td>\n",
       "      <td>-0.000</td>\n",
       "      <td>-7.287</td>\n",
       "      <td>-0.165</td>\n",
       "      <td>0.000000e+00</td>\n",
       "    </tr>\n",
       "    <tr>\n",
       "      <th>Tss</th>\n",
       "      <td>0.001</td>\n",
       "      <td>-0.008</td>\n",
       "      <td>0.088</td>\n",
       "      <td>0.104</td>\n",
       "      <td>-0.019</td>\n",
       "      <td>-0.176</td>\n",
       "      <td>0.849</td>\n",
       "      <td>0.000000e+00</td>\n",
       "    </tr>\n",
       "    <tr>\n",
       "      <th>yss</th>\n",
       "      <td>0.042</td>\n",
       "      <td>-0.243</td>\n",
       "      <td>8.294</td>\n",
       "      <td>2.135</td>\n",
       "      <td>-0.562</td>\n",
       "      <td>-4.121</td>\n",
       "      <td>-0.467</td>\n",
       "      <td>0.000000e+00</td>\n",
       "    </tr>\n",
       "    <tr>\n",
       "      <th>iss</th>\n",
       "      <td>0.014</td>\n",
       "      <td>-0.080</td>\n",
       "      <td>6.543</td>\n",
       "      <td>2.598</td>\n",
       "      <td>-0.185</td>\n",
       "      <td>-4.835</td>\n",
       "      <td>-0.232</td>\n",
       "      <td>0.000000e+00</td>\n",
       "    </tr>\n",
       "  </tbody>\n",
       "</table>\n",
       "</div>"
      ],
      "text/plain": [
       "         α      β       γ       δ      ξ       τ      a      $\\bar{z}$\n",
       "kss  0.139 -0.802  65.430  25.985 -1.849 -48.350 -2.323   0.000000e+00\n",
       "lss  0.019 -0.110   0.260  -0.769 -0.254   1.320 -0.139  7.241602e+169\n",
       "css  0.028 -0.163   1.751   2.085 -0.377  -3.511 -0.234  3.105036e+231\n",
       "rss  0.000 -0.000  -1.096   0.000  0.000   1.000  0.023   0.000000e+00\n",
       "wss  0.000  0.000   7.987   4.396 -0.000  -7.287 -0.165   0.000000e+00\n",
       "Tss  0.001 -0.008   0.088   0.104 -0.019  -0.176  0.849   0.000000e+00\n",
       "yss  0.042 -0.243   8.294   2.135 -0.562  -4.121 -0.467   0.000000e+00\n",
       "iss  0.014 -0.080   6.543   2.598 -0.185  -4.835 -0.232   0.000000e+00"
      ]
     },
     "execution_count": 155,
     "metadata": {},
     "output_type": "execute_result"
    }
   ],
   "source": [
    "ss_names = np.array(['kss', 'lss', 'css', 'rss', 'wss', 'Tss', 'yss', 'iss'])\n",
    "params_names = np.array(['α', 'β', 'γ', 'δ', 'ξ', 'τ', 'a', r'$\\bar{z}$'])\n",
    "comp_stat = pd.DataFrame(deriv, ss_names, params_names)\n",
    "comp_stat.round(decimals=3)"
   ]
  },
  {
   "cell_type": "code",
   "execution_count": null,
   "metadata": {},
   "outputs": [],
   "source": []
  }
 ],
 "metadata": {
  "kernelspec": {
   "display_name": "Python 3",
   "language": "python",
   "name": "python3"
  },
  "language_info": {
   "codemirror_mode": {
    "name": "ipython",
    "version": 3
   },
   "file_extension": ".py",
   "mimetype": "text/x-python",
   "name": "python",
   "nbconvert_exporter": "python",
   "pygments_lexer": "ipython3",
   "version": "3.6.5"
  }
 },
 "nbformat": 4,
 "nbformat_minor": 2
}
