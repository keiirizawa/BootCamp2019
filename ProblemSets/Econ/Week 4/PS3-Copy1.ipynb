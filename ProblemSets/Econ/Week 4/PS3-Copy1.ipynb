{
 "cells": [
  {
   "cell_type": "code",
   "execution_count": 127,
   "metadata": {},
   "outputs": [],
   "source": [
    "import numpy as np \n",
    "import time \n",
    "import scipy.optimize as opt\n",
    "from matplotlib import pyplot as plt"
   ]
  },
  {
   "cell_type": "code",
   "execution_count": 91,
   "metadata": {},
   "outputs": [],
   "source": [
    "# parameters for the model\n",
    "beta = 0.96 ** 20\n",
    "delta = 1 - (1 - 0.05) ** 20\n",
    "sigma = 3\n",
    "A = 1\n",
    "alpha = 0.35\n",
    "\n",
    "nvec = np.array([1, 1, 0.2])\n",
    "L = np.sum(nvec)\n",
    "SS_tol = 1e-15"
   ]
  },
  {
   "cell_type": "code",
   "execution_count": 149,
   "metadata": {},
   "outputs": [],
   "source": [
    "def get_L(n1, n2, n3):\n",
    "    L = n1 + n2 + n3\n",
    "    return L\n",
    "\n",
    "def get_K(b2, b3):\n",
    "    K = b2 + b3\n",
    "    return K\n",
    "\n",
    "def get_r(K, L, params):\n",
    "    alpha, A, delta = params\n",
    "    r = alpha * A * (L / K) ** (1 - alpha) - delta\n",
    "    return r\n",
    "    \n",
    "def get_w(K, L, params):\n",
    "    alpha, A = params\n",
    "    w = (1 - alpha) * A * (K / L) ** alpha\n",
    "    return w"
   ]
  },
  {
   "cell_type": "code",
   "execution_count": null,
   "metadata": {},
   "outputs": [],
   "source": []
  },
  {
   "cell_type": "markdown",
   "metadata": {},
   "source": [
    "## Exercise 2.1"
   ]
  },
  {
   "cell_type": "code",
   "execution_count": 41,
   "metadata": {},
   "outputs": [],
   "source": [
    "def feasible(f_params, bvec_guess):\n",
    "    '''\n",
    "    input\n",
    "        f_params: (nvec, A, alpha, delta)\n",
    "        bvec_guess: guess for steady-state savings vector in the form np.array([scalar, scalar])\n",
    "    '''\n",
    "    nvec, A, alpha, delta = f_params\n",
    "    b2, b3 = bvec_guess\n",
    "    n1, n2, n3 = nvec\n",
    "    \n",
    "    b_cnstr = np.full((2), False, dtype=bool)\n",
    "    c_cnstr = np.full((3), False, dtype=bool)\n",
    "    K_cnstr = np.full((1), False, dtype=bool)\n",
    "    \n",
    "    K = b2 + b3\n",
    "    K_cnstr = K < 0\n",
    "    L = np.sum(nvec)\n",
    "    \n",
    "    r_params = (alpha, A, delta)\n",
    "    r = get_r(K, L, r_params)\n",
    "    w_params = (alpha, A)\n",
    "    w = get_w(K, L, w_params)\n",
    "    \n",
    "    # HH age-specific budget constraint\n",
    "    c_cnstr[0] = n1 * w - b2 < 0\n",
    "    c_cnstr[1] = n2 * w + (1 + r) * b2 - b3 < 0\n",
    "    c_cnstr[2] = n3 * w + (1 + r) * b3 < 0\n",
    "    \n",
    "    if c_cnstr[0]:\n",
    "        b_cnstr[0] = True\n",
    "    if c_cnstr[1]:\n",
    "        b_cnstr[1] = b_cnstr[2] = True\n",
    "    if c_cnstr[2]:\n",
    "        b_cnstr[2] = True\n",
    "    \n",
    "    return b_cnstr, c_cnstr, K_cnstr"
   ]
  },
  {
   "cell_type": "markdown",
   "metadata": {},
   "source": [
    "#### Part a"
   ]
  },
  {
   "cell_type": "code",
   "execution_count": 42,
   "metadata": {},
   "outputs": [
    {
     "name": "stdout",
     "output_type": "stream",
     "text": [
      "b constraint:  [ True False]\n",
      "c constraint:  [ True False False]\n",
      "K constraint:  False\n"
     ]
    }
   ],
   "source": [
    "f_params = np.array([nvec, A, alpha, delta])\n",
    "bvec_guess = np.array([1.0, 1.2])\n",
    "b_cnstr, c_cnstr, K_cnstr = feasible(f_params, bvec_guess)\n",
    "print(\"b constraint: \", b_cnstr)\n",
    "print(\"c constraint: \", c_cnstr)\n",
    "print(\"K constraint: \", K_cnstr)"
   ]
  },
  {
   "cell_type": "markdown",
   "metadata": {},
   "source": [
    "#### Part b"
   ]
  },
  {
   "cell_type": "code",
   "execution_count": 43,
   "metadata": {},
   "outputs": [
    {
     "name": "stdout",
     "output_type": "stream",
     "text": [
      "b constraint:  [False False]\n",
      "c constraint:  [False False False]\n",
      "K constraint:  False\n"
     ]
    }
   ],
   "source": [
    "bvec_guess = np.array([0.06, -0.001])\n",
    "b_cnstr, c_cnstr, K_cnstr = feasible(f_params, bvec_guess)\n",
    "print(\"b constraint: \", b_cnstr)\n",
    "print(\"c constraint: \", c_cnstr)\n",
    "print(\"K constraint: \", K_cnstr)"
   ]
  },
  {
   "cell_type": "markdown",
   "metadata": {},
   "source": [
    "#### Part c"
   ]
  },
  {
   "cell_type": "code",
   "execution_count": 44,
   "metadata": {},
   "outputs": [
    {
     "name": "stdout",
     "output_type": "stream",
     "text": [
      "b constraint:  [False False]\n",
      "c constraint:  [False False False]\n",
      "K constraint:  False\n"
     ]
    }
   ],
   "source": [
    "bvec_guess = np.array([0.1, 0.1])\n",
    "b_cnstr, c_cnstr, K_cnstr = feasible(f_params, bvec_guess)\n",
    "print(\"b constraint: \", b_cnstr)\n",
    "print(\"c constraint: \", c_cnstr)\n",
    "print(\"K constraint: \", K_cnstr)"
   ]
  },
  {
   "cell_type": "code",
   "execution_count": null,
   "metadata": {},
   "outputs": [],
   "source": []
  },
  {
   "cell_type": "markdown",
   "metadata": {},
   "source": [
    "## Exercise 2.2"
   ]
  },
  {
   "cell_type": "code",
   "execution_count": null,
   "metadata": {},
   "outputs": [],
   "source": [
    "def get_ss():\n",
    "    "
   ]
  },
  {
   "cell_type": "code",
   "execution_count": 150,
   "metadata": {},
   "outputs": [],
   "source": [
    "def get_ss_endog_var(bvec, params):\n",
    "    beta, sigma = params\n",
    "    n1, n2, n3 = nvec\n",
    "    b2, b3 = bvec\n",
    "    \n",
    "    K_bar = np.sum(bvec)\n",
    "    L_bar = np.sum(nvec)\n",
    "    \n",
    "    r_params = (alpha, A, delta)\n",
    "    r_bar = get_r(K_bar, L_bar, r_params)\n",
    "    w_params = (alpha, A)\n",
    "    w_bar = get_w(K_bar, L_bar, w_params)\n",
    "    \n",
    "    c_0 = n1 * w_bar - b2 \n",
    "    c_1 = n2 * w_bar + (1 + r_bar) * b2 - b3 \n",
    "    c_2 = n3 * w_bar + (1 + r_bar) * b3\n",
    "    c_barvec = np.array([c_0, c_1, c_2])\n",
    "    \n",
    "    return np.array([c_barvec, w_bar, r_bar, K_bar])"
   ]
  },
  {
   "cell_type": "code",
   "execution_count": 146,
   "metadata": {},
   "outputs": [],
   "source": [
    "def EE_errors(bvec_guess, args):\n",
    "    \n",
    "    beta, sigma = args   \n",
    "    c_barvec, w_bar, r_bar, K_bar = get_endog_var(bvec_guess, args)\n",
    "    c_0, c_1, c_2 = c_barvec\n",
    "        \n",
    "    u_prime = lambda c: c ** (-sigma)  # CRRA utility function\n",
    "    \n",
    "    EE1 = u_prime(c_0) - beta * (1 + r_bar) * u_prime(c_1)\n",
    "    EE2 = u_prime(c_1) - beta * (1 + r_bar) * u_prime(c_2)\n",
    "    \n",
    "    return np.array([EE1, EE2])"
   ]
  },
  {
   "cell_type": "code",
   "execution_count": 147,
   "metadata": {},
   "outputs": [],
   "source": [
    "def get_ss(params, bvec_guess, SS_graph=True):\n",
    "    beta, sigma, nvec, L, A, alpha, delta, SS_tol = params\n",
    "        \n",
    "    start_time = time.clock()\n",
    "\n",
    "    params_init = bvec_guess\n",
    "    args = np.array([beta, sigma])\n",
    "    b_ss = opt.fsolve(EE_errors, bvec_guess, args=args)\n",
    "    K_ss = np.sum(b_ss)\n",
    "    \n",
    "    EulErr_ss = EE_errors(b_ss, args)\n",
    "    \n",
    "    ss_time = time.clock() - start_time\n",
    "    \n",
    "    params = np.array([beta, sigma])\n",
    "    c_ss, w_ss, r_ss, K_ss = get_endog_var(b_ss, params)\n",
    "    \n",
    "    C_ss = np.sum(c_ss)\n",
    "    Y_ss = A * (K_ss ** alpha) * (L ** (1-alpha)) \n",
    "    \n",
    "    ss_output = {\n",
    "        'b_ss': b_ss,\n",
    "        'c_ss': c_ss,\n",
    "        'w_ss': w_ss,\n",
    "        'r_ss': r_ss,\n",
    "        'K_ss': K_ss,\n",
    "        'Y_ss': Y_ss,\n",
    "        'C_ss': C_ss,\n",
    "        'EulErr_ss': EulErr_ss,\n",
    "        'RCerr_ss': Y_ss - C_ss - delta * K_ss,\n",
    "        'ss_time': ss_time        \n",
    "    }\n",
    "    \n",
    "    if SS_graph:\n",
    "        fig, ax = plt.subplots(figsize=(6,6))\n",
    "        s = np.array([1, 2, 3])\n",
    "        plt.plot(s, c_ss, label=r'$c_{ss}$', marker='.')\n",
    "        plt.plot(s[1:], b_ss, label=r'$b_{ss}$', marker='.')\n",
    "        plt.title(\"Steady-State Consumption and Savings\")\n",
    "        plt.legend()\n",
    "        plt.grid()\n",
    "        plt.xlabel(\"Age (s)\")\n",
    "        plt.ylabel(\"Level\")\n",
    "        plt.xticks(s)\n",
    "        plt.show()\n",
    "    \n",
    "    return ss_output"
   ]
  },
  {
   "cell_type": "markdown",
   "metadata": {},
   "source": [
    "#### Part a and b"
   ]
  },
  {
   "cell_type": "code",
   "execution_count": 148,
   "metadata": {},
   "outputs": [
    {
     "data": {
      "image/png": "[encoded data removed]",
      "text/plain": [
       "<Figure size 432x432 with 1 Axes>"
      ]
     },
     "metadata": {},
     "output_type": "display_data"
    },
    {
     "data": {
      "text/plain": [
       "{'b_ss': array([0.02817696, 0.07686557]),\n",
       " 'c_ss': array([0.19597535, 0.22861559, 0.26669216]),\n",
       " 'w_ss': 0.22415231191003757,\n",
       " 'r_ss': 1.8863599991451423,\n",
       " 'K_ss': 0.1050425255076521,\n",
       " 'Y_ss': 0.7586693633878195,\n",
       " 'C_ss': 0.691283104528901,\n",
       " 'EulErr_ss': array([6.93489710e-12, 2.54374299e-12]),\n",
       " 'RCerr_ss': -5.551115123125783e-17,\n",
       " 'ss_time': 0.0010329999999996176}"
      ]
     },
     "execution_count": 148,
     "metadata": {},
     "output_type": "execute_result"
    }
   ],
   "source": [
    "params = ((beta, sigma, nvec, L, A, alpha, delta, SS_tol))\n",
    "bvec_guess = (0.1, 0.1)\n",
    "get_ss(params, bvec_guess,)"
   ]
  },
  {
   "cell_type": "markdown",
   "metadata": {},
   "source": [
    "#### Part c"
   ]
  },
  {
   "cell_type": "code",
   "execution_count": 135,
   "metadata": {},
   "outputs": [
    {
     "data": {
      "image/png": "[encoded data removed]",
      "text/plain": [
       "<Figure size 432x432 with 1 Axes>"
      ]
     },
     "metadata": {},
     "output_type": "display_data"
    },
    {
     "data": {
      "text/plain": [
       "{'b_ss': array([0.02817696, 0.07686557]),\n",
       " 'c_ss': array([0.19597535, 0.22861559, 0.26669216]),\n",
       " 'w_ss': 0.22415231191003757,\n",
       " 'r_ss': 1.8863599991451423,\n",
       " 'K_ss': 0.1050425255076521,\n",
       " 'Y_ss': 0.7586693633878195,\n",
       " 'C_ss': 0.691283104528901,\n",
       " 'EulErr_ss': array([6.93489710e-12, 2.54374299e-12]),\n",
       " 'RCerr_ss': -5.551115123125783e-17,\n",
       " 'ss_time': 0.0006930000000000547}"
      ]
     },
     "execution_count": 135,
     "metadata": {},
     "output_type": "execute_result"
    }
   ],
   "source": [
    "beta = 0.55\n",
    "params = ((beta, sigma, nvec, L, A, alpha, delta, SS_tol))\n",
    "bvec_guess = (0.1, 0.1)\n",
    "get_ss(params, bvec_guess)"
   ]
  },
  {
   "cell_type": "code",
   "execution_count": null,
   "metadata": {},
   "outputs": [],
   "source": []
  },
  {
   "cell_type": "markdown",
   "metadata": {},
   "source": [
    "## Exercise 2.3"
   ]
  },
  {
   "cell_type": "code",
   "execution_count": null,
   "metadata": {},
   "outputs": [],
   "source": [
    "def get_c_vec(r_vec, w_vec, nvec, bvec):\n",
    "    \n",
    "    c_0 = w_vec[0] * nvec[0] - bvec[1] \n",
    "    c_1 = w_vec[1] * nvec[1] + (1 + rvec[1]) * bvec[2] - bvec[3]\n",
    "    c_3 = w_vec[2] * nvec[2] + (1 + rvec[2]) * bvec[3]\n",
    "    \n",
    "    return np.array([c_0, c_1, c_2])"
   ]
  },
  {
   "cell_type": "code",
   "execution_count": null,
   "metadata": {},
   "outputs": [],
   "source": [
    "def EE_errors(bvec_guess, args):\n",
    "    \n",
    "    beta, sigma = args   \n",
    "    c_barvec, w_bar, r_bar, K_bar = get_endog_var(bvec_guess, args)\n",
    "    c_0, c_1, c_2 = c_barvec\n",
    "        \n",
    "    u_prime = lambda c: c ** (-sigma)  # CRRA utility function\n",
    "    \n",
    "    c_0 = \n",
    "    \n",
    "    EE1 = u_prime(c_0) - beta * (1 + r_bar) * u_prime(c_1)\n",
    "    EE2 = u_prime(c_1) - beta * (1 + r_bar) * u_prime(c_2)\n",
    "    EE3 = \n",
    "    \n",
    "    return np.array([EE1, EE2])"
   ]
  },
  {
   "cell_type": "code",
   "execution_count": null,
   "metadata": {},
   "outputs": [],
   "source": [
    "def get_TPI(params, bvec_guess, bvec_init, T, TPI_graph=True):\n",
    "    beta, sigma, nvec, L, A, alpha, delta, SS_tol = params\n",
    "    \n",
    "    output = get_ss(params, bvec_guess)\n",
    "    K_bar = output[K_ss]\n",
    "    r_bar = output[r_ss]\n",
    "    w_bar = output[w_ss]\n",
    "    bvec_bar = output[b_ss]\n",
    "    \n",
    "    K_guess = np.ones(3)\n",
    "    K_guess[0] = np.sum(bvec_init)\n",
    "    K_guess[2] = np.sum(bvec_bar)\n",
    "    \n",
    "    r_vec = alpha * A * (L / K_guess) ** (1 - alpha) - delta\n",
    "    w_vec = (1 - alpha) * A * (K_guess / L) ** alpha\n",
    "    \n",
    "    \n",
    "    \n",
    "    \n",
    "    \n",
    "    "
   ]
  },
  {
   "cell_type": "markdown",
   "metadata": {},
   "source": [
    "#### HH Problem "
   ]
  },
  {
   "cell_type": "code",
   "execution_count": null,
   "metadata": {},
   "outputs": [],
   "source": [
    "def marg_ut_cons(c, sigma):\n",
    "    '''\n",
    "    Assume CRRA Utility function. \n",
    "    '''\n",
    "    return c ** (-sigma)"
   ]
  },
  {
   "cell_type": "code",
   "execution_count": 159,
   "metadata": {},
   "outputs": [],
   "source": [
    "def firstdoughnutring(b32_guess, args):\n",
    "    '''\n",
    "    Solves the first entries (b32) of the upper triangle of the tiwst\n",
    "    doghnut. This is separate from the main TPI function. \n",
    "    \n",
    "    Params:\n",
    "        bvec_init: initial capital distribution (b21, b31)\n",
    "        \n",
    "    Returns:\n",
    "        EE: Euler error for the FOC for saving \n",
    "        (Middle Age Agent Problem).\n",
    "    '''\n",
    "    r_path, w_path, nvec, bvec_init = args\n",
    "    b21, b31 = bvec_init\n",
    "    \n",
    "    c_21 = w_path[0] * nvec[1] + (1 + rpath[0]) * b21 - b32\n",
    "    c_32 = w_path[1] * nvec[2] - (1 + rpath[1]) * b32\n",
    "    \n",
    "    EE = marg_ut_cons(c_21, sigma) - beta * (1 + r_vec[2]) \\\n",
    "            * marg_ut_cons(c_32, sigma)\n",
    "    \n",
    "    return EE"
   ]
  },
  {
   "cell_type": "code",
   "execution_count": 152,
   "metadata": {},
   "outputs": [],
   "source": [
    "def get_c_vec(r_vec, w_vec, nvec, bvec):\n",
    "    '''\n",
    "    '''\n",
    "    \n",
    "    c_1 = w_vec[0] * nvec[0] - bvec[1] \n",
    "    c_2 = w_vec[1] * nvec[1] + (1 + rvec[1]) * bvec[2] - bvec[3]\n",
    "    c_3 = w_vec[2] * nvec[2] + (1 + rvec[2]) * bvec[3]\n",
    "    \n",
    "    return np.array([c_1, c_2, c_3])    "
   ]
  },
  {
   "cell_type": "code",
   "execution_count": null,
   "metadata": {},
   "outputs": [],
   "source": [
    "def twist_doughnut():\n",
    "    '''\n",
    "    Returns:\n",
    "        EE: Euler errors for the FOC for savig \n",
    "        (Young Age Agent Problem)\n",
    "    '''\n",
    "    \n",
    "    c1 = nvec[0] * wpath[0] - bvec[0]\n",
    "    c2 = nvec[1] * wpath[1] + (1 + rpath[0]) * bvec[0] - bvec[1]\n",
    "    c3 = (1 + rpath[1]) * bvec[1] + nvec[2] * wpath[2]\n",
    "    \n",
    "\n",
    "        c1 = nvec[0] * wpath[0] - bvec[0]\n",
    "    c2 = nvec[1] * wpath[1] + (1 + rpath[0]) * bvec[0] - bvec[1]\n",
    "    c3 = (1 + rpath[1]) * bvec[1] + nvec[2] * wpath[2]\n",
    "    "
   ]
  },
  {
   "cell_type": "code",
   "execution_count": null,
   "metadata": {},
   "outputs": [],
   "source": [
    "def get_c_vec(r_vec, w_vec, nvec, bvec):\n",
    "    \n",
    "    c_1 = w_vec[0] * nvec[0] - bvec[1] \n",
    "    c_2 = w_vec[1] * nvec[1] + (1 + rvec[1]) * bvec[2] - bvec[3]\n",
    "    c_3 = w_vec[2] * nvec[2] + (1 + rvec[2]) * bvec[3]\n",
    "    \n",
    "    return np.array([c_1, c_2, c_3])    "
   ]
  },
  {
   "cell_type": "code",
   "execution_count": null,
   "metadata": {},
   "outputs": [],
   "source": [
    "c1 = nvec[0] * wpath[0] - bvec[0]\n",
    "    c2 = nvec[1] * wpath[1] + (1 + rpath[0]) * bvec[0] - bvec[1]\n",
    "    c3 = (1 + rpath[1]) * bvec[1] + nvec[2] * wpath[2]\n",
    "    "
   ]
  },
  {
   "cell_type": "code",
   "execution_count": null,
   "metadata": {},
   "outputs": [],
   "source": []
  },
  {
   "cell_type": "code",
   "execution_count": null,
   "metadata": {},
   "outputs": [],
   "source": [
    "def EE_solve_b2t_b3t1(bvec)"
   ]
  },
  {
   "cell_type": "code",
   "execution_count": null,
   "metadata": {},
   "outputs": [],
   "source": []
  },
  {
   "cell_type": "code",
   "execution_count": null,
   "metadata": {},
   "outputs": [],
   "source": []
  },
  {
   "cell_type": "code",
   "execution_count": null,
   "metadata": {},
   "outputs": [],
   "source": []
  },
  {
   "cell_type": "code",
   "execution_count": 154,
   "metadata": {},
   "outputs": [],
   "source": [
    "def FOC_savings(rvec, wvec, nvec, bvec, beta, sigma, method):\n",
    "    '''\n",
    "    Computes Euler errors for the FOC for savings in SS.\n",
    "    '''\n",
    "    c_0, c_1, c_2 = get_c_vec(r_vec, w_vec, nvec, bvec)\n",
    "    \n",
    "    if method == \"firstdougnutring\":\n",
    "        EE1 = marg_ut_cons(c_0, sigma) - beta * (1 + r_vec[1]) * marg_ut_cons(c_1, sigma)\n",
    "        EE2 = marg_ut_cons(c_1, sigma) - beta * (1 + r_bar[2]) * marg_ut_cons(c_2, sigma)\n",
    "        EE = np.array([EE1, EE2])\n",
    "    \n",
    "    if method == \"twist_doghnnut\":\n",
    "        EE = marg_ut_cons(c_1, sigma) - beta * (1 + r_vec[2]) * marg_ut_cons(c_2, sigma)\n",
    "        \n",
    "    else:\n",
    "        raise ValueError(\"Not an option for method!\")\n",
    "        \n",
    "    return EE"
   ]
  },
  {
   "cell_type": "markdown",
   "metadata": {},
   "source": [
    "#### TPI Method"
   ]
  },
  {
   "cell_type": "code",
   "execution_count": 155,
   "metadata": {},
   "outputs": [],
   "source": [
    "def firstdoughnutring(rvec, wvec, nvec, initial_bvec, beta, sigma, method):\n",
    "    '''\n",
    "    Solves the first entries of the upper triangle of the tiwst\n",
    "    doghnut. This is separate from the main TPI function. \n",
    "    '''\n",
    "    EE = FOC_savings(rvec, wvec, nvec, initial_bvec, beta, sigma, method = \"firstdougnutring\")\n",
    "    \n",
    "    return EE"
   ]
  },
  {
   "cell_type": "code",
   "execution_count": null,
   "metadata": {},
   "outputs": [],
   "source": [
    "def twist_doughnut():\n",
    "    EE1, EE2 = FOC_savings(rvec, wvec, nvec, bvec, beta, sigma, method)"
   ]
  },
  {
   "cell_type": "code",
   "execution_count": null,
   "metadata": {},
   "outputs": [],
   "source": []
  },
  {
   "cell_type": "code",
   "execution_count": null,
   "metadata": {},
   "outputs": [],
   "source": []
  },
  {
   "cell_type": "code",
   "execution_count": null,
   "metadata": {},
   "outputs": [],
   "source": [
    "def firstdoughnutring(guesses, r, w, nvec, initial_b):\n",
    "    \n",
    "    c_0, c_1, c_2 = get_c_vec(r_vec, w_vec, nvec, bvec)\n",
    "    \n",
    "    \n",
    "    "
   ]
  },
  {
   "cell_type": "code",
   "execution_count": null,
   "metadata": {},
   "outputs": [],
   "source": [
    "def twist_doghnnut()"
   ]
  },
  {
   "cell_type": "code",
   "execution_count": null,
   "metadata": {},
   "outputs": [],
   "source": []
  },
  {
   "cell_type": "code",
   "execution_count": null,
   "metadata": {},
   "outputs": [],
   "source": [
    "def get_ss_endog_var(bvec, params):\n",
    "    beta, sigma = params\n",
    "    n1, n2, n3 = nvec\n",
    "    b2, b3 = bvec\n",
    "    \n",
    "    K_bar = np.sum(bvec)\n",
    "    L_bar = np.sum(nvec)\n",
    "    \n",
    "    r_params = (alpha, A, delta)\n",
    "    r_bar = get_r(K_bar, L_bar, r_params)\n",
    "    w_params = (alpha, A)\n",
    "    w_bar = get_w(K_bar, L_bar, w_params)\n",
    "    \n",
    "    c_0 = n1 * w_bar - b2 \n",
    "    c_1 = n2 * w_bar + (1 + r_bar) * b2 - b3 \n",
    "    c_2 = n3 * w_bar + (1 + r_bar) * b3\n",
    "    c_barvec = np.array([c_0, c_1, c_2])\n",
    "    \n",
    "    return np.array([c_barvec, w_bar, r_bar, K_bar])"
   ]
  },
  {
   "cell_type": "code",
   "execution_count": null,
   "metadata": {},
   "outputs": [],
   "source": []
  },
  {
   "cell_type": "code",
   "execution_count": null,
   "metadata": {},
   "outputs": [],
   "source": []
  },
  {
   "cell_type": "code",
   "execution_count": null,
   "metadata": {},
   "outputs": [],
   "source": [
    "def get_ss(params, bvec_guess, SS_graph=False):\n",
    "    beta, sigma, nvec, L, A, alpha, delta, SS_tol = params\n",
    "    b2, b3 = bvec_guess\n",
    "    \n",
    "    K_old = b2 + b3\n",
    "    \n",
    "    diff = SS_tol + 1\n",
    "    bvec_new = bvec_guess\n",
    "    \n",
    "    start_time = time.clock()\n",
    "    iter_ = 1\n",
    "\n",
    "    while diff > SS_tol:\n",
    "        print('iter = ', iter_)\n",
    "        params_init = bvec_guess\n",
    "        args = np.array([beta, sigma])\n",
    "        b2_new, b3_new = opt.fsolve(EE_errors, bvec_new, args=args)\n",
    "        bvec_new = np.array([b2_new, b3_new])\n",
    "        \n",
    "        K_new = b2_new + b3_new\n",
    "        diff = np.abs(K_new - K_old)\n",
    "        K_old = K_new\n",
    "        iter_ += 1\n",
    "    \n",
    "    ss_time = time.clock() - start_time\n",
    "    \n",
    "    args = np.array([beta, sigma])\n",
    "    EulErr_ss = EE_errors(bvec_new, args)\n",
    "        \n",
    "    params = np.array([beta, sigma])\n",
    "    c_ss, w_ss, r_ss, K_ss = update_endog_var(bvec_new, params)\n",
    "    \n",
    "    C_ss = np.sum(c_ss)\n",
    "    Y_ss = A * (K_ss ** alpha) * (L ** (1-alpha)) \n",
    "    \n",
    "    ss_output = {\n",
    "        'b_ss': bvec_new,\n",
    "        'c_ss': c_ss,\n",
    "        'w_ss': w_ss,\n",
    "        'r_ss': r_ss,\n",
    "        'K_ss': K_old,\n",
    "        'Y_ss': Y_ss,\n",
    "        'C_ss': C_ss,\n",
    "        'EulErr_ss': EulErr_ss,\n",
    "        'RCerr_ss': Y_ss - C_ss - delta * K_old,\n",
    "        'ss_time': ss_time        \n",
    "    }\n",
    "    \n",
    "    return ss_output"
   ]
  },
  {
   "cell_type": "code",
   "execution_count": 48,
   "metadata": {},
   "outputs": [],
   "source": [
    "def update_guess(params, bvec_guess):\n",
    "    \n",
    "    beta, sigma, nvec, L, A, alpha, delta, SS_tol = params\n",
    "    \n",
    "    b2, b3 = bvec_guess\n",
    "    \n",
    "    K_bar = np.sum(bvec_guess)\n",
    "    L_bar = np.sum(nvec)\n",
    "    \n",
    "    r_params = (alpha, A, delta)\n",
    "    r_bar = get_r(K_bar, L_bar, r_params)\n",
    "    w_params = (alpha, A)\n",
    "    w_bar = get_w(K_bar, L_bar, w_params)\n",
    "    \n",
    "    params_init = bvec_guess\n",
    "    args = np.array([nvec, r_bar, w_bar, beta, sigma])\n",
    "    b2_ss, b3_ss = opt.fsolve(EE_errors, params_init, args=gamma)\n",
    "    \n",
    "    return np.array([K_bar, r_bar, w_bar, b2_ss, b3_ss])"
   ]
  },
  {
   "cell_type": "code",
   "execution_count": null,
   "metadata": {},
   "outputs": [],
   "source": [
    "params = ((beta, sigma, nvec, L, A, alpha, delta, SS_tol))\n",
    "bvec_guess = (0.1, 0.1)\n",
    "SS_graph = True"
   ]
  },
  {
   "cell_type": "code",
   "execution_count": 136,
   "metadata": {},
   "outputs": [
    {
     "data": {
      "text/plain": [
       "0.4420024338794074"
      ]
     },
     "execution_count": 136,
     "metadata": {},
     "output_type": "execute_result"
    }
   ],
   "source": [
    "0.96 ** 20"
   ]
  },
  {
   "cell_type": "code",
   "execution_count": null,
   "metadata": {},
   "outputs": [],
   "source": []
  },
  {
   "cell_type": "code",
   "execution_count": null,
   "metadata": {},
   "outputs": [],
   "source": []
  },
  {
   "cell_type": "code",
   "execution_count": null,
   "metadata": {},
   "outputs": [],
   "source": []
  },
  {
   "cell_type": "code",
   "execution_count": null,
   "metadata": {},
   "outputs": [],
   "source": []
  }
 ],
 "metadata": {
  "kernelspec": {
   "display_name": "Python 3",
   "language": "python",
   "name": "python3"
  },
  "language_info": {
   "codemirror_mode": {
    "name": "ipython",
    "version": 3
   },
   "file_extension": ".py",
   "mimetype": "text/x-python",
   "name": "python",
   "nbconvert_exporter": "python",
   "pygments_lexer": "ipython3",
   "version": "3.6.5"
  }
 },
 "nbformat": 4,
 "nbformat_minor": 2
}
