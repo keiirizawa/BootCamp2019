{
 "cells": [
  {
   "cell_type": "code",
   "execution_count": 1,
   "metadata": {},
   "outputs": [],
   "source": [
    "import numpy as np \n",
    "\n",
    "# parameters for the model\n",
    "beta = 0.96 ** 20\n",
    "delta = 1 - (1 - 0.05) ** 20\n",
    "sigma = 3\n",
    "A = 1\n",
    "alpha = 0.35\n",
    "\n",
    "# Set parameters (exogenous)\n",
    "n1 =  \n",
    "n2 = \n",
    "n3 = \n",
    "alpha = \n",
    "delta = \n",
    "A = "
   ]
  },
  {
   "cell_type": "markdown",
   "metadata": {},
   "source": [
    "Check params tool "
   ]
  },
  {
   "cell_type": "markdown",
   "metadata": {},
   "source": [
    "## Solving Steady State"
   ]
  },
  {
   "cell_type": "code",
   "execution_count": 3,
   "metadata": {},
   "outputs": [],
   "source": [
    "def get_L(n1, n2, n3):\n",
    "    L = n1 + n2 + n3\n",
    "    return L\n",
    "\n",
    "def get_K(b2, b3):\n",
    "    K = b2 + b3\n",
    "    return K\n",
    "\n",
    "def get_r(K, L, params):\n",
    "    alpha, A, delta = params\n",
    "    r = alpha * A * (L / K) ** (1 - alpha) - delta\n",
    "    return r\n",
    "    \n",
    "def get_w(K, L, params):\n",
    "    alpha, A = params\n",
    "    w = (1 - alpha) * A * (K / L) ** alpha\n",
    "    return w"
   ]
  },
  {
   "cell_type": "code",
   "execution_count": null,
   "metadata": {},
   "outputs": [],
   "source": []
  },
  {
   "cell_type": "code",
   "execution_count": null,
   "metadata": {},
   "outputs": [],
   "source": [
    "# solve for b2 and b3 using euler equations"
   ]
  },
  {
   "cell_type": "markdown",
   "metadata": {},
   "source": [
    "#### Non steady-state functional equilibrium\n",
    "prices and allocations such that all agents maximize and if general equilibrium, markets clear.\n",
    "- HHs optimize (requires predicting future prices so need assumption of how to predict, rational expectation)\n",
    "- Rational expectation of future savings: $\\Gamma_{t+u}^e$ (if relax and use OGM, similar result to model with rational expetation. Good speed up to full ratioal expectation model). \n",
    "- firms optimize\n",
    "- markets clear"
   ]
  },
  {
   "cell_type": "markdown",
   "metadata": {},
   "source": [
    "#### Transition path equilibrium algorithm\n",
    "1. Solve for SS $\\bar{b_2}$, $\\bar{b_3}$ $\\Rightarrow$ $\\bar{K}$, $\\bar{r}$, $\\bar{w}$\n",
    "2. Guess T, econ in SS"
   ]
  },
  {
   "cell_type": "code",
   "execution_count": null,
   "metadata": {},
   "outputs": [],
   "source": []
  },
  {
   "cell_type": "code",
   "execution_count": null,
   "metadata": {},
   "outputs": [],
   "source": []
  },
  {
   "cell_type": "code",
   "execution_count": null,
   "metadata": {},
   "outputs": [],
   "source": []
  },
  {
   "cell_type": "code",
   "execution_count": null,
   "metadata": {},
   "outputs": [],
   "source": []
  }
 ],
 "metadata": {
  "kernelspec": {
   "display_name": "Python 3",
   "language": "python",
   "name": "python3"
  },
  "language_info": {
   "codemirror_mode": {
    "name": "ipython",
    "version": 3
   },
   "file_extension": ".py",
   "mimetype": "text/x-python",
   "name": "python",
   "nbconvert_exporter": "python",
   "pygments_lexer": "ipython3",
   "version": "3.6.5"
  }
 },
 "nbformat": 4,
 "nbformat_minor": 2
}
